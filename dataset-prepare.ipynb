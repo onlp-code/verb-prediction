{
 "cells": [
  {
   "cell_type": "markdown",
   "metadata": {
    "hideCode": false,
    "hidePrompt": false
   },
   "source": [
    "# HTB Dataset Pre-processing for homework tasks 🔨\n",
    "for now, it only retrieves and tokenizes the sentences from the HTB dataset."
   ]
  },
  {
   "cell_type": "markdown",
   "metadata": {
    "hideCode": false,
    "hidePrompt": false
   },
   "source": [
    "This notebook transforms the HTB dataset from https://github.com/UniversalDependencies/UD_Hebrew-HTB, into what you need for the verb-prediction assignment. You may equally copy the code into `.py` file and run it directly outside the jupyter environment here (in a command prompt)."
   ]
  },
  {
   "cell_type": "markdown",
   "metadata": {
    "ExecuteTime": {
     "end_time": "2019-02-11T08:05:18.965894Z",
     "start_time": "2019-02-11T08:05:18.957234Z"
    },
    "hideCode": false,
    "hidePrompt": false
   },
   "source": [
    "### Downloading the right version of the HTB\n",
    "To future-proof, we standardize on a specific version of the HTB. <br>Those with a keen eye will notice we use here the quick-and-dirty ⚡ way of launching OS commands from directly within the notebook. <br>⚙ Anyway, make sure you have git installed and working on your OS before proceeding"
   ]
  },
  {
   "cell_type": "code",
   "execution_count": 1,
   "metadata": {
    "ExecuteTime": {
     "end_time": "2019-02-11T16:32:59.121426Z",
     "start_time": "2019-02-11T16:32:54.936117Z"
    },
    "hideCode": false,
    "hidePrompt": false
   },
   "outputs": [
    {
     "name": "stdout",
     "output_type": "stream",
     "text": [
      "Cloning into 'UD_Hebrew-HTB'...\n",
      "remote: Enumerating objects: 22, done.\u001b[K\n",
      "remote: Counting objects: 100% (22/22), done.\u001b[K\n",
      "remote: Compressing objects: 100% (17/17), done.\u001b[K\n",
      "remote: Total 191 (delta 9), reused 15 (delta 5), pack-reused 169\u001b[K\n",
      "Receiving objects: 100% (191/191), 8.93 MiB | 3.17 MiB/s, done.\n",
      "Resolving deltas: 100% (106/106), done.\n",
      "Checking connectivity... done.\n",
      "Note: checking out '82591c955e86222e32531336ff23e36c220b5846'.\n",
      "\n",
      "You are in 'detached HEAD' state. You can look around, make experimental\n",
      "changes and commit them, and you can discard any commits you make in this\n",
      "state without impacting any branches by performing another checkout.\n",
      "\n",
      "If you want to create a new branch to retain commits you create, you may\n",
      "do so (now or later) by using -b with the checkout command again. Example:\n",
      "\n",
      "  git checkout -b <new-branch-name>\n",
      "\n",
      "HEAD is now at 82591c9... Updated treebank evaluation.\n"
     ]
    }
   ],
   "source": [
    "!git clone https://github.com/UniversalDependencies/UD_Hebrew-HTB\n",
    "!cd UD_Hebrew-HTB && git checkout 82591c955e86222e32531336ff23e36c220b5846"
   ]
  },
  {
   "cell_type": "markdown",
   "metadata": {
    "ExecuteTime": {
     "end_time": "2019-02-11T08:15:50.352238Z",
     "start_time": "2019-02-11T08:15:50.345381Z"
    },
    "hideCode": false,
    "hidePrompt": false
   },
   "source": [
    "the code cell above is not [idempotent](https://www.wikiwand.com/en/Idempotence) because it fails when run more than once 💥 it's oftentimes good practice to have notebooks completely idempotent. What would be two entirely differnt ways of making that cell idempotent? 💡 "
   ]
  },
  {
   "cell_type": "code",
   "execution_count": 2,
   "metadata": {
    "ExecuteTime": {
     "end_time": "2019-02-11T16:32:59.277169Z",
     "start_time": "2019-02-11T16:32:59.125076Z"
    },
    "hideCode": false,
    "hidePrompt": false
   },
   "outputs": [
    {
     "name": "stdout",
     "output_type": "stream",
     "text": [
      "5241 sentences read\n"
     ]
    }
   ],
   "source": [
    "train_set = 'UD_Hebrew-HTB/he_htb-ud-train.conllu'\n",
    "\n",
    "sentences = []\n",
    "with open(train_set, 'r') as f:\n",
    "    for line in f:\n",
    "        if line.startswith('# text = '):\n",
    "            sentences.append(line[len('# text = '):])\n",
    "            \n",
    "print('{} sentences read'.format(len(sentences)))"
   ]
  },
  {
   "cell_type": "markdown",
   "metadata": {
    "ExecuteTime": {
     "end_time": "2019-02-11T08:31:19.991771Z",
     "start_time": "2019-02-11T08:31:19.987588Z"
    },
    "hideCode": false,
    "hidePrompt": false
   },
   "source": [
    "### Observing what we got"
   ]
  },
  {
   "cell_type": "code",
   "execution_count": 3,
   "metadata": {
    "ExecuteTime": {
     "end_time": "2019-02-11T16:32:59.293470Z",
     "start_time": "2019-02-11T16:32:59.279822Z"
    },
    "hideCode": false,
    "hidePrompt": false
   },
   "outputs": [
    {
     "data": {
      "text/plain": [
       "['הוא קרא דרור ליצרי הנקמה הכי כמוסים.\\n',\n",
       " 'נעשות שם עוד מאות סדרות שהן ירודות ביותר, ולכן ההשוואה אינה הוגנת\".\\n',\n",
       " 'הרי ככלות הכל המלט היה סקנדינווי.\\n',\n",
       " 'ההנהלה אף דנה בהכנת מסמך בקשה לסיוע חירום מהממשלה.\\n',\n",
       " 'והנה, מאז פרץ מה שפרץ במפרץ, אין שבוע שבו לא קושרים הצופרים במקום כלשהו קשר אפל לקצר את חיי התושבים.\\n',\n",
       " 'לא אחת, כדי לא לסכן את סיכויי הנישואים של הבנות, מעדיפים האבות מין אוראלי ואנאלי.\\n',\n",
       " 'העיתון מוסר, מפי עדים במחלקת העבודות המיוחדות, כי א-נוסייר הגיב בזעם כששמע על ההעברה.\\n',\n",
       " 'נמסר על רימון גז שניפץ שמשתה של מכונית.\\n',\n",
       " 'הגנרל נורמן שוורצקוף, מפקד הגייסות האמריקאיים הנערכים מול עיראק, מעריך כי \"הכוחות שבפיקודו מסוגלים למחוק את עיראק מן המפה\".\\n',\n",
       " 'בגיל 61 עזב רשמית את בית הספר והחל להתפרנס כנהג מונית, חוטב עצים, משיט רפסודה בנהר ונהג משאית.\\n',\n",
       " 'אני גם מסכים בהחלט שלצד העניין הלאומי צריך לשים דגש חזק יותר על הלקח ההומניסטי: דיכוי הגזענות, ביצור הדמוקרטיה וכו.\\n',\n",
       " 'מאחר שבכל דלת יש 21 חיבורים, ברור שלאיכות העבודה, כמו גם לטיב הדבקים, יש חלק מכריע בטיב המטבח שרוכשים.\\n']"
      ]
     },
     "execution_count": 3,
     "metadata": {},
     "output_type": "execute_result"
    }
   ],
   "source": [
    "import random\n",
    "random.sample(sentences, 12)"
   ]
  },
  {
   "cell_type": "markdown",
   "metadata": {
    "hideCode": false,
    "hidePrompt": false
   },
   "source": [
    "## Cleaning\n",
    "\n",
    "We don't really need the newline characters this time around, so we'll drop them. <br>but do all sentences in our data end with a newline? are newline characters used also within sentences?"
   ]
  },
  {
   "cell_type": "code",
   "execution_count": 4,
   "metadata": {
    "ExecuteTime": {
     "end_time": "2019-02-11T16:32:59.364053Z",
     "start_time": "2019-02-11T16:32:59.295441Z"
    },
    "hideCode": false,
    "hidePrompt": false
   },
   "outputs": [],
   "source": [
    "for sentence in sentences:\n",
    "    if not sentence.endswith('\\n'):\n",
    "        print(sentence)\n",
    "        \n",
    "for sentence in sentences:\n",
    "    if sentence.index('\\n') < len(sentence)-1:\n",
    "        print(sentence)"
   ]
  },
  {
   "cell_type": "markdown",
   "metadata": {
    "hideCode": false,
    "hidePrompt": false
   },
   "source": [
    "okay, so we remove the end of line chars.\n",
    "<br>we do not remove period characters, because they are not the only end of sentence character allowed in canonical language (which ones are allowed?). read on."
   ]
  },
  {
   "cell_type": "code",
   "execution_count": 5,
   "metadata": {
    "ExecuteTime": {
     "end_time": "2019-02-11T16:32:59.446514Z",
     "start_time": "2019-02-11T16:32:59.365907Z"
    },
    "hideCode": false,
    "hidePrompt": false
   },
   "outputs": [],
   "source": [
    "sentences = [sentence[:-1] for sentence in sentences] # this pythonic syntax is called list comprehensions, BTW"
   ]
  },
  {
   "cell_type": "code",
   "execution_count": 6,
   "metadata": {
    "ExecuteTime": {
     "end_time": "2019-02-11T16:32:59.514437Z",
     "start_time": "2019-02-11T16:32:59.449078Z"
    },
    "hideCode": false,
    "hidePrompt": false
   },
   "outputs": [
    {
     "data": {
      "text/plain": [
       "['מעל למיטתו תלוי תצלום קטן של האפיפיור.',\n",
       " 'באופן פרדוקסלי, נוצר מצב שבו ארה\"ב מתחמקת מלקיים דיאלוג ברמה האסטראטגית דווקא עם המדינה היחידה במזרח התיכון עמה יש לה הסכם חתום לשיתוף פעולה אסטראטגי.',\n",
       " 'תמיכת גאנדי מבטיחה לשקאר 280 קולות בפרלמנט.',\n",
       " 'בשביל הישיבה היה יותר קל לגייס כספים.',\n",
       " 'הבנות בעיקר סובלות מ\"ציפיות סותרות\" של הוריהן, אומר היועץ הפסיכולוגי בבתי-ספר בברלין, גומהור טקבאסרן: המסר הוא \"אסור לך לבלוט אבל את חייבת להישאר טורקייה\" (לבלוט בסביבה ולעורר את לעגה על-ידי בגדים הנחשבים צנועים ומטפחת ראש), סתירה שאינה ניתנת ליישוב.',\n",
       " 'הוא האשים את משרד האוצר בעיכוב העברת 80 מיליון ש\"ח למקורות כסובסידיה לשנת 90 וכתשלום על מפעלי מים שהחברה הקימה השנה.',\n",
       " 'באופיו היה כהנא איש אלים ומתפרץ.',\n",
       " 'היא נרצחה בידי אחיה.',\n",
       " 'מכבי רמת גן שמט ניצחון אחרי שהוביל במרבית דקות המשחק.',\n",
       " 'המשלחת כוללת שלושה משקולאים.',\n",
       " 'התמונות ששש מהן מופיעות בספר מגרות את הזיותיו המיניות של דון ריגוברטו.',\n",
       " 'הנאשם התקשר בארץ עם עולה מאתיופיה, גרושה ואם לשני ילדים.']"
      ]
     },
     "execution_count": 6,
     "metadata": {},
     "output_type": "execute_result"
    }
   ],
   "source": [
    "random.sample(sentences, 12)"
   ]
  },
  {
   "cell_type": "markdown",
   "metadata": {
    "hideCode": false,
    "hidePrompt": false
   },
   "source": [
    "So rather than remove periods and question/exclamation marks, we make them a token in their own right, wherever encountered, much like the treatment we give other punctuation characters when tokenizing text. "
   ]
  },
  {
   "cell_type": "markdown",
   "metadata": {
    "hideCode": false,
    "hidePrompt": false
   },
   "source": [
    "## Tokenization\n",
    "Tokenizing is not the most exciting nor a trivial task; some characters just carry ambiguity, for example:\n",
    "\n",
    "+ the dot character (`.`) has different uses:\n",
    "    + the dog barked.\n",
    "    + 0.33\n",
    "    + David C.\n",
    "    + Sept. 2000\n",
    "    + M.D.\n",
    "    + Mr.\n",
    "    + Mrs.\n",
    "    + SKU 3343.22.CE\n",
    "    <br><br>\n",
    "+ a hebrew quote character (`\"`) has different uses:\n",
    "    + \"הוא אמר \"לא הבנתי\n",
    "    + ד\"ר שקשוקה\n",
    "    + \"היא אמרה ש\"לא\n",
    "    <br><br>\n",
    "\n",
    "+ this also holds for other and additional characters ― depending on the language, language register, and even on written locale conventions mainly concerning the writing of numbers and dates.\n",
    "\n",
    "<br>We will not discuss tokenization yet, but rather use a ready made tokenization function pre-supplied. You may browse it to see what's involved, and generally, other approaches for tokenization abound."
   ]
  },
  {
   "cell_type": "code",
   "execution_count": 7,
   "metadata": {
    "ExecuteTime": {
     "end_time": "2019-02-11T16:33:00.623734Z",
     "start_time": "2019-02-11T16:32:59.517648Z"
    },
    "hideCode": false,
    "hidePrompt": false
   },
   "outputs": [
    {
     "data": {
      "text/plain": [
       "[['בשבועיים',\n",
       "  'האחרונים',\n",
       "  'כבר',\n",
       "  'ראיין',\n",
       "  'שר',\n",
       "  'המשטרה',\n",
       "  'כעשרה',\n",
       "  'קציני',\n",
       "  'משטרה',\n",
       "  'מנוסים',\n",
       "  'וצעירים',\n",
       "  'יחסית',\n",
       "  'בדרגת',\n",
       "  'ניצב',\n",
       "  'משנה',\n",
       "  ',',\n",
       "  'מקרב',\n",
       "  'שדרת',\n",
       "  'הביניים',\n",
       "  'של',\n",
       "  'פיקוד',\n",
       "  'המשטרה',\n",
       "  ',',\n",
       "  'כמועמדים',\n",
       "  'לאייש',\n",
       "  'את',\n",
       "  'יחידת',\n",
       "  'המטה',\n",
       "  'המקצועית',\n",
       "  'שלו',\n",
       "  '.'],\n",
       " ['רק',\n",
       "  'אחרי',\n",
       "  'שראיתי',\n",
       "  'את',\n",
       "  'הסרט',\n",
       "  'ענק',\n",
       "  'עם',\n",
       "  'גיימס',\n",
       "  'דין',\n",
       "  'הבנתי',\n",
       "  'מאיפה',\n",
       "  'מארק',\n",
       "  'לקח',\n",
       "  'את',\n",
       "  'המאניירות',\n",
       "  'ואת',\n",
       "  'המימיקה',\n",
       "  'שלו',\n",
       "  '.'],\n",
       " ['לתנועת',\n",
       "  'המחאה',\n",
       "  'הצטרפו',\n",
       "  'גם',\n",
       "  'האיגודים',\n",
       "  'המקצועיים',\n",
       "  'של',\n",
       "  'הטלוויזיה',\n",
       "  '.'],\n",
       " ['במקביל',\n",
       "  ',',\n",
       "  'פנו',\n",
       "  'כמה',\n",
       "  'מיצרני',\n",
       "  'הרהיטים',\n",
       "  'למשרד',\n",
       "  'התעשייה',\n",
       "  'והמסחר',\n",
       "  'בדרישה',\n",
       "  'שלא',\n",
       "  'להכין',\n",
       "  'תקן',\n",
       "  'כזה',\n",
       "  '.'],\n",
       " ['פרויקטים',\n",
       "  'חדשים',\n",
       "  'במחקר',\n",
       "  'ופיתוח',\n",
       "  'בהיקף',\n",
       "  'כולל',\n",
       "  'של',\n",
       "  'שמונה',\n",
       "  'מיליון',\n",
       "  'דולר',\n",
       "  ',',\n",
       "  'המשותפים',\n",
       "  'לחברות',\n",
       "  'ישראליות',\n",
       "  'ואמריקאיות',\n",
       "  ',',\n",
       "  'יוגשו',\n",
       "  'למועצת',\n",
       "  'המנהלים',\n",
       "  'של',\n",
       "  'הקרן',\n",
       "  'הדו-לאומית',\n",
       "  'למו\"ף',\n",
       "  'ישראל-ארה\"ב',\n",
       "  'שתתכנס',\n",
       "  'השבוע',\n",
       "  'בירושלים',\n",
       "  '.'],\n",
       " ['לקח',\n",
       "  'זה',\n",
       "  'יחזיר',\n",
       "  'אותנו',\n",
       "  'לדרך',\n",
       "  'פוליטית',\n",
       "  'נבונה',\n",
       "  'ויעניק',\n",
       "  'לנו',\n",
       "  'כוח',\n",
       "  'לחזור',\n",
       "  'לשלטון',\n",
       "  'ברגע',\n",
       "  'המתאים',\n",
       "  '.'],\n",
       " ['המקורות',\n",
       "  'הפלשתיניים',\n",
       "  'הוסיפו',\n",
       "  'כי',\n",
       "  'כוחות',\n",
       "  'צה\"ל',\n",
       "  'עצרו',\n",
       "  'רבים',\n",
       "  'מן',\n",
       "  'המתפרעים',\n",
       "  '.'],\n",
       " ['חניכיו',\n",
       "  'של',\n",
       "  'אלי',\n",
       "  'חגג',\n",
       "  'מבית\"ר',\n",
       "  'נתניה',\n",
       "  'התאוששו',\n",
       "  'על',\n",
       "  'חשבון',\n",
       "  'העכואים',\n",
       "  '.'],\n",
       " ['אלה',\n",
       "  'מקווים',\n",
       "  'לחלוקת',\n",
       "  'הארץ',\n",
       "  'בין',\n",
       "  'שני',\n",
       "  'העמים',\n",
       "  'ואלה',\n",
       "  'לטראנספר',\n",
       "  'של',\n",
       "  'הפלשתינאים',\n",
       "  ',',\n",
       "  'אבל',\n",
       "  'תרופת-הביניים',\n",
       "  'בדרך',\n",
       "  'לפתרון',\n",
       "  'השנוי',\n",
       "  'במחלוקת',\n",
       "  'אחידה',\n",
       "  '.'],\n",
       " ['בביקורו',\n",
       "  'בבריטניה',\n",
       "  'סיכם',\n",
       "  'בייקר',\n",
       "  'עם',\n",
       "  'ראש',\n",
       "  'הממשלה',\n",
       "  ',',\n",
       "  'מארגרט',\n",
       "  'תאצר',\n",
       "  ',',\n",
       "  'כי',\n",
       "  'מועצת',\n",
       "  'הביטחון',\n",
       "  'של',\n",
       "  'האו\"ם',\n",
       "  'תתבקש',\n",
       "  'שוב',\n",
       "  'לאשר',\n",
       "  'שימוש',\n",
       "  'בכוח',\n",
       "  'כדי',\n",
       "  'לפנות',\n",
       "  'את',\n",
       "  'עיראק',\n",
       "  'מכוויית',\n",
       "  '.']]"
      ]
     },
     "execution_count": 7,
     "metadata": {},
     "output_type": "execute_result"
    }
   ],
   "source": [
    "from hltk.tokenization.tokenizer import tokenize\n",
    "\n",
    "tokenized = list(map(tokenize ,sentences))\n",
    "random.sample(tokenized, 10)"
   ]
  },
  {
   "cell_type": "markdown",
   "metadata": {
    "hidePrompt": true
   },
   "source": [
    "***Question***: What would've happened hadn't we removed the newline characters first? and could we, very alternatively, defer treating them to a later stage rather than cleaning them away first?"
   ]
  },
  {
   "cell_type": "markdown",
   "metadata": {},
   "source": [
    "You may have possibly noticed in the foregoing, that for short sentences, jupyter may display the Hebrew text LTR rather than RTL (from left to right rather than from right to left), or just garble the order of words with regard to punctuation. Go back and check. \n",
    "\n",
    "This phenomena is due to at least two key factors:\n",
    "\n",
    "+ Any component in the application stack, the specific browser implementation or locale settings, the web page's code or front-end frameworks used, or in badly-written cases the application itself, may tweak or retrofit letter order and/or word order, as well as decide the proper horizontal alignment. \n",
    "<br>Practically, _printing one word per line_ entirely side-steps this aspect (in a cross-platform way!), at least for languages strictly characterized as keeping a horizontal writing order. <br><br>\n",
    "\n",
    "+ Additionally, [perhaps even the most standardized algorithm for handling mixed language texts](https://en.wikipedia.org/wiki/Bi-directional_text?Unicode_bidi_support), a.k.a bidirectional text, will not always work as intended, because bi-directional text can be by definition ambiguous (think, why? in what cases? we will deeply study a concept you still don't have at this stage of the course, that may help to come up with an answer). <br><br>And so, the layer of display logic in charge of multi-lingual text display, may actually garble indentation e.g. with RTL text when assuming an LTR default, as the display stack in your browser works to figure how to display your text. \n",
    "\n",
    "<br>*it is interesting to note, that in spoken text we _do not have this problem at all_, because the sounds of speech are always uttered in their natural order along the time axis, regardless of the languages involved. It is in writing, that the ordering transforms from being temporal to being gemoetric, thusly giving rise to these issues when different-directionality languages are interleaved in text.\n"
   ]
  },
  {
   "cell_type": "code",
   "execution_count": null,
   "metadata": {},
   "outputs": [],
   "source": []
  }
 ],
 "metadata": {
  "hide_code_all_hidden": false,
  "kernelspec": {
   "display_name": "Python 3",
   "language": "python",
   "name": "python3"
  },
  "language_info": {
   "codemirror_mode": {
    "name": "ipython",
    "version": 3
   },
   "file_extension": ".py",
   "mimetype": "text/x-python",
   "name": "python",
   "nbconvert_exporter": "python",
   "pygments_lexer": "ipython3",
   "version": "3.6.5"
  }
 },
 "nbformat": 4,
 "nbformat_minor": 2
}
