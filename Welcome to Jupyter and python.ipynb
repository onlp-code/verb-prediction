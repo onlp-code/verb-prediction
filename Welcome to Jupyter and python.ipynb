{
 "cells": [
  {
   "cell_type": "markdown",
   "metadata": {},
   "source": [
    "## ✨ Welcome! \n",
    "This sample notebook will verify your jupyter server is running the correct version of python. <br>\n",
    "If not, you can easily switch jupyter to run python 3.6 for you (see stackoverflow). "
   ]
  },
  {
   "cell_type": "code",
   "execution_count": 7,
   "metadata": {
    "ExecuteTime": {
     "end_time": "2019-02-11T07:50:02.921285Z",
     "start_time": "2019-02-11T07:50:02.916118Z"
    }
   },
   "outputs": [],
   "source": [
    "import platform\n",
    "\n",
    "python_version = platform.python_version()\n",
    "assert python_version[:3] == '3.6', 'your jupyter notebook is not running python 3.6'"
   ]
  }
 ],
 "metadata": {
  "kernelspec": {
   "display_name": "Python 3",
   "language": "python",
   "name": "python3"
  },
  "language_info": {
   "codemirror_mode": {
    "name": "ipython",
    "version": 3
   },
   "file_extension": ".py",
   "mimetype": "text/x-python",
   "name": "python",
   "nbconvert_exporter": "python",
   "pygments_lexer": "ipython3",
   "version": "3.6.5"
  }
 },
 "nbformat": 4,
 "nbformat_minor": 2
}
