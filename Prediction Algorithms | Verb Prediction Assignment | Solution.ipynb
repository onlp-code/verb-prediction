{
 "cells": [
  {
   "cell_type": "markdown",
   "metadata": {
    "hideCode": false,
    "hidePrompt": false
   },
   "source": [
    "# Prediction Algorithms | Verb Prediction | Solution"
   ]
  },
  {
   "cell_type": "markdown",
   "metadata": {
    "ExecuteTime": {
     "end_time": "2019-02-17T06:52:12.198070Z",
     "start_time": "2019-02-17T06:52:12.191109Z"
    }
   },
   "source": [
    "***Please find the assignments to submit following the sample code.***"
   ]
  },
  {
   "cell_type": "markdown",
   "metadata": {
    "hideCode": false,
    "hidePrompt": false
   },
   "source": [
    "This notebook contains working code as the basis for your assignment. It fetches and loads the necessary data you will work on during this assignment, and demonstrates all the initial steps."
   ]
  },
  {
   "cell_type": "markdown",
   "metadata": {
    "hideCode": false,
    "hidePrompt": false
   },
   "source": [
    "## Prerequisites\n",
    "+ **Python 3.6.x.** You may install python via the [Anaconda distribution](https://www.anaconda.com/distribution/#download-section) which will also automatically install many useful python libraries, but this is not mandatory. To import a library in a notebook or python file, it must first be _installed_; this is a prerequisite to running this notebook. Anaconda will out-of-the-box install most/all of the libraries which are imported by this notebook. The latest version of Anaconda comes with python 3.7, so you will have to dig for the previous version of Anaconda.\n",
    "<br><Br>\n",
    "+ Python packages used in this notebook should be installed. <br><br>\n",
    "    + To install any missing or helpful python packages with Anaconda, you would typically issue the following command given below. This command assumes that the package you are after has been made publically available on the official Anaconda distribution channel (called conda-forge). The `conda` command is Anaconda's setup tool that comes along with the Anaconda distribution. If you installed Anaconda, you should have this command available in your command prompt.\n",
    "```\n",
    "conda install -c conda-forge <package name>\n",
    "```\n",
    "    + Further setup notes:\n",
    "         + When run, the `conda install` command may take a while to resolve all dependencies.\n",
    "         + Some packages are not available through Anaconda, in which case use the famous pip utility to install the missing package/s into your python environment.\n",
    "         + You are entirely free to install python and the necessary packages in other ways\n",
    "<br><br>"
   ]
  },
  {
   "cell_type": "markdown",
   "metadata": {
    "hideCode": false,
    "hidePrompt": false
   },
   "source": [
    "## Getting Started with this notebook\n",
    "+ Follow the cells and their outputs to confirm you understand what they are doing. \n",
    "+ Use it as a learning opportunity about idiomatic python, if you are relatively new to python!\n",
    "+ Make a local copy of the notebook ― <br>and make sure it is running on your machine, with outpus similar to those already appearing in this pre-run copy."
   ]
  },
  {
   "cell_type": "markdown",
   "metadata": {},
   "source": [
    "### Imports"
   ]
  },
  {
   "cell_type": "code",
   "execution_count": 1,
   "metadata": {
    "ExecuteTime": {
     "end_time": "2019-02-20T13:49:55.967501Z",
     "start_time": "2019-02-20T13:49:53.268615Z"
    }
   },
   "outputs": [],
   "source": [
    "from tqdm import tqdm_notebook # progress bars\n",
    "import pyconll # library parsing CoNLL-U files\n",
    "from pprint import pprint # slightly nicer printing of data structures\n",
    "from sklearn.metrics import confusion_matrix\n",
    "import random\n",
    "import itertools \n",
    "import sklearn.metrics"
   ]
  },
  {
   "cell_type": "markdown",
   "metadata": {
    "ExecuteTime": {
     "end_time": "2019-02-11T08:05:18.965894Z",
     "start_time": "2019-02-11T08:05:18.957234Z"
    },
    "hideCode": false,
    "hidePrompt": false
   },
   "source": [
    "## Downloading and loading the HTB corpus\n",
    "To future-proof, we standardize on a specific version of the HTB. <br>Those with a keen eye will notice we use here the quick-and-dirty ⚡ way of launching OS commands from directly within the notebook. <br>⚙ Anyway, make sure you have git installed and working on your OS before proceeding."
   ]
  },
  {
   "cell_type": "code",
   "execution_count": 2,
   "metadata": {
    "ExecuteTime": {
     "end_time": "2019-02-20T13:49:56.141856Z",
     "start_time": "2019-02-20T13:49:55.969658Z"
    },
    "hideCode": false,
    "hidePrompt": false
   },
   "outputs": [],
   "source": [
    "%%script false\n",
    "!git clone https://github.com/UniversalDependencies/UD_Hebrew-HTB\n",
    "!cd UD_Hebrew-HTB && git checkout 82591c955e86222e32531336ff23e36c220b5846"
   ]
  },
  {
   "cell_type": "code",
   "execution_count": 3,
   "metadata": {
    "ExecuteTime": {
     "end_time": "2019-02-20T13:49:59.195217Z",
     "start_time": "2019-02-20T13:49:56.143920Z"
    },
    "hideCode": false,
    "hidePrompt": false
   },
   "outputs": [],
   "source": [
    "conllu1 = pyconll.load_from_file('UD_Hebrew-HTB/he_htb-ud-dev.conllu')\n",
    "conllu2 = pyconll.load_from_file('UD_Hebrew-HTB/he_htb-ud-test.conllu')\n",
    "conllu3 = pyconll.load_from_file('UD_Hebrew-HTB/he_htb-ud-train.conllu')\n",
    "\n",
    "conllu = [conllu1, conllu2, conllu3]"
   ]
  },
  {
   "cell_type": "markdown",
   "metadata": {},
   "source": [
    "## Quick data exploration\n",
    "lets quantify how many verbs do we have per sentence"
   ]
  },
  {
   "cell_type": "code",
   "execution_count": 4,
   "metadata": {
    "ExecuteTime": {
     "end_time": "2019-02-20T13:49:59.258786Z",
     "start_time": "2019-02-20T13:49:59.197059Z"
    },
    "hideCode": false,
    "hidePrompt": false
   },
   "outputs": [],
   "source": [
    "counts = []\n",
    "for sentence in itertools.chain(*conllu): # the asterisk unpacks the array into an argument list\n",
    "    verbs = 0\n",
    "    for token in sentence:\n",
    "        if token.upos == 'VERB':\n",
    "            verbs += 1 #print(token.form)\n",
    "    counts.append(verbs)"
   ]
  },
  {
   "cell_type": "code",
   "execution_count": 5,
   "metadata": {
    "ExecuteTime": {
     "end_time": "2019-02-20T13:50:00.689462Z",
     "start_time": "2019-02-20T13:49:59.260650Z"
    }
   },
   "outputs": [
    {
     "data": {
      "text/plain": [
       "0      511\n",
       "1     1673\n",
       "2     1748\n",
       "3     1099\n",
       "4      604\n",
       "5      321\n",
       "6      140\n",
       "7       66\n",
       "8       26\n",
       "9       15\n",
       "10       6\n",
       "11       3\n",
       "12       3\n",
       "15       1\n",
       "dtype: int64"
      ]
     },
     "execution_count": 5,
     "metadata": {},
     "output_type": "execute_result"
    }
   ],
   "source": [
    "import pandas as pd\n",
    "counts = pd.Series(counts)\n",
    "counts.value_counts().sort_index()"
   ]
  },
  {
   "cell_type": "code",
   "execution_count": 6,
   "metadata": {
    "ExecuteTime": {
     "end_time": "2019-02-20T13:50:01.006399Z",
     "start_time": "2019-02-20T13:50:00.692982Z"
    }
   },
   "outputs": [
    {
     "name": "stdout",
     "output_type": "stream",
     "text": [
      "5,528 unique verbs in training data\n",
      "28,205 unique non-verbs in training data\n",
      "632 words are ambiguous\n",
      "\n"
     ]
    }
   ],
   "source": [
    "verbs = {}\n",
    "non_verbs = {}\n",
    "\n",
    "for sentence in itertools.chain(*conllu):\n",
    "    for token in sentence:\n",
    "        if token.upos == 'VERB':\n",
    "            if token.form in verbs:\n",
    "                verbs.update({token.form : verbs[token.form]+1})\n",
    "            else:\n",
    "                verbs.update({token.form : 0})\n",
    "        else:\n",
    "            if token.form in non_verbs:\n",
    "                non_verbs.update({token.form : non_verbs[token.form]+1})\n",
    "            else:\n",
    "                non_verbs.update({token.form : 0})\n",
    "\n",
    "    \n",
    "print('{:,} unique verbs in training data'.format(len(verbs)))\n",
    "print('{:,} unique non-verbs in training data'.format(len(non_verbs)))\n",
    "\n",
    "ambiguous = set(verbs.keys()) & set(non_verbs.keys())\n",
    "\n",
    "print('{:,} words are ambiguous'.format(len(ambiguous)))\n",
    "print()\n",
    "#print('ambiguous words:\\n' + str(ambiguous))"
   ]
  },
  {
   "cell_type": "code",
   "execution_count": 7,
   "metadata": {
    "ExecuteTime": {
     "end_time": "2019-02-20T13:50:01.022529Z",
     "start_time": "2019-02-20T13:50:01.008504Z"
    }
   },
   "outputs": [
    {
     "name": "stdout",
     "output_type": "stream",
     "text": [
      "after removing ambiguous words:\n",
      "\n",
      "4,896 unique verbs in training data\n",
      "27,573 unique non-verbs in training data\n"
     ]
    }
   ],
   "source": [
    "verbs     = {k:v for (k,v) in verbs.items() if not k in ambiguous} # this is called a dict comprehension\n",
    "non_verbs = {k:v for (k,v) in non_verbs.items() if not k in ambiguous}\n",
    "\n",
    "print('after removing ambiguous words:\\n')\n",
    "print('{:,} unique verbs in training data'.format(len(verbs)))\n",
    "print('{:,} unique non-verbs in training data'.format(len(non_verbs)))"
   ]
  },
  {
   "cell_type": "code",
   "execution_count": 25,
   "metadata": {
    "ExecuteTime": {
     "end_time": "2019-02-20T13:51:55.050183Z",
     "start_time": "2019-02-20T13:51:55.043125Z"
    }
   },
   "outputs": [
    {
     "data": {
      "text/plain": [
       "0.15078998429270998"
      ]
     },
     "execution_count": 25,
     "metadata": {},
     "output_type": "execute_result"
    }
   ],
   "source": [
    "len(verbs) / (len(verbs) + len(non_verbs))"
   ]
  },
  {
   "cell_type": "code",
   "execution_count": 8,
   "metadata": {
    "ExecuteTime": {
     "end_time": "2019-02-20T13:50:01.233599Z",
     "start_time": "2019-02-20T13:50:01.026184Z"
    }
   },
   "outputs": [
    {
     "data": {
      "application/vnd.jupyter.widget-view+json": {
       "model_id": "5cd61ef668f143c3b71b4b6426a65bdc",
       "version_major": 2,
       "version_minor": 0
      },
      "text/plain": [
       "HBox(children=(IntProgress(value=0, max=32469), HTML(value='')))"
      ]
     },
     "metadata": {},
     "output_type": "display_data"
    },
    {
     "name": "stdout",
     "output_type": "stream",
     "text": [
      "\n"
     ]
    }
   ],
   "source": [
    "grams = dict()\n",
    "\n",
    "lexicon = list(verbs.keys()) + list(non_verbs.keys())\n",
    "\n",
    "for verb in tqdm_notebook(lexicon):\n",
    "    for char in verb:\n",
    "        if char in characters:\n",
    "            characters[char] += 1\n",
    "        else:\n",
    "            characters[char] = 0        "
   ]
  },
  {
   "cell_type": "code",
   "execution_count": 9,
   "metadata": {
    "ExecuteTime": {
     "end_time": "2019-02-20T13:50:01.238569Z",
     "start_time": "2019-02-20T13:50:01.235217Z"
    }
   },
   "outputs": [
    {
     "name": "stdout",
     "output_type": "stream",
     "text": [
      "the alhpabet size in this corpus is 49\n",
      "alphabet:\n",
      "['!', '\"', '%', '(', ')', ',', '-', '.', '0', '1', '2', '3', '4', '5', '6', '7', '8', '9', ':', ';', '?', '_', 'א', 'ב', 'ג', 'ד', 'ה', 'ו', 'ז', 'ח', 'ט', 'י', 'ך', 'כ', 'ל', 'ם', 'מ', 'ן', 'נ', 'ס', 'ע', 'ף', 'פ', 'ץ', 'צ', 'ק', 'ר', 'ש', 'ת']\n"
     ]
    }
   ],
   "source": [
    "alphabet = characters.keys()\n",
    "alphabet = sorted(alphabet)\n",
    "print('the alhpabet size in this corpus is {}'.format(len(alphabet)))\n",
    "print('alphabet:\\n' + str(alphabet))"
   ]
  },
  {
   "cell_type": "markdown",
   "metadata": {
    "ExecuteTime": {
     "end_time": "2019-02-17T05:43:44.877408Z",
     "start_time": "2019-02-17T05:43:44.872621Z"
    }
   },
   "source": [
    "## Getting down to business\n",
    "In the following we test whether ngrams are enough for classifying words into verbs v.s. non-verbs. This demonstrates the entire flow of classification."
   ]
  },
  {
   "cell_type": "code",
   "execution_count": 10,
   "metadata": {
    "ExecuteTime": {
     "end_time": "2019-02-20T13:50:01.302023Z",
     "start_time": "2019-02-20T13:50:01.240005Z"
    }
   },
   "outputs": [
    {
     "name": "stdout",
     "output_type": "stream",
     "text": [
      "we have 1274 ngram features\n"
     ]
    }
   ],
   "source": [
    "_1grams = list(itertools.combinations_with_replacement(alphabet, 1))\n",
    "_2grams = list(itertools.combinations_with_replacement(alphabet, 2))\n",
    "ngrams = _1grams + _2grams\n",
    "ngrams = list(map(lambda ngram: ''.join(ngram), ngrams))\n",
    "print('we have {} ngram features'.format(len(ngrams)))"
   ]
  },
  {
   "cell_type": "code",
   "execution_count": 11,
   "metadata": {
    "ExecuteTime": {
     "end_time": "2019-02-20T13:50:01.357637Z",
     "start_time": "2019-02-20T13:50:01.303757Z"
    }
   },
   "outputs": [],
   "source": [
    "def vectorize(word):\n",
    "    ''' turn word into a vector '''\n",
    "    \n",
    "    # bigram occurences\n",
    "    vec1 = [0] * len(ngrams)\n",
    "    for idx, bigram in enumerate(ngrams):\n",
    "        if bigram in word:\n",
    "            vec1[idx] = 1\n",
    "            \n",
    "    # bigram occurences as prefix\n",
    "    vec2 = [0] * len(ngrams)\n",
    "    for idx, bigram in enumerate(ngrams):\n",
    "        if word.startswith(bigram):\n",
    "            vec2[idx] = 1\n",
    "\n",
    "    # bigram occurences as prefix\n",
    "    vec3 = [0] * len(ngrams)\n",
    "    for idx, bigram in enumerate(ngrams):\n",
    "        if word.endswith(bigram):\n",
    "            vec3[idx] = 1\n",
    "        \n",
    "    return vec1 + vec2 + vec3"
   ]
  },
  {
   "cell_type": "code",
   "execution_count": 12,
   "metadata": {
    "ExecuteTime": {
     "end_time": "2019-02-20T13:50:01.447500Z",
     "start_time": "2019-02-20T13:50:01.359809Z"
    }
   },
   "outputs": [],
   "source": [
    "def train_test_split(X, y, train_proportion=0.8):\n",
    "    ''' split the given data into train and test sets '''\n",
    "\n",
    "    assert len(X) == len(y), 'input data should have exactly one prediction per input'\n",
    "    assert 0 < train_proportion < 1, 'this function requires a proportion between zero and one as its second argument'\n",
    "    \n",
    "    data_indices = set(range(len(X)))\n",
    "    data_count = len(data_indices)\n",
    "\n",
    "    train_indices = set(random.sample(data_indices, int(data_count * train_proportion)))\n",
    "    test_indices  = data_indices - train_indices\n",
    "    \n",
    "    X_train = [X[idx] for idx in train_indices]\n",
    "    X_test  = [X[idx] for idx in test_indices]\n",
    "    \n",
    "    y_train = [y[idx] for idx in train_indices]\n",
    "    y_test  = [y[idx] for idx in test_indices]\n",
    "\n",
    "    assert len(X_train) + len(X_test) == len(X)\n",
    "    \n",
    "    return X_train, X_test, y_train, y_test"
   ]
  },
  {
   "cell_type": "code",
   "execution_count": 13,
   "metadata": {
    "ExecuteTime": {
     "end_time": "2019-02-20T13:50:16.712662Z",
     "start_time": "2019-02-20T13:50:01.449898Z"
    }
   },
   "outputs": [],
   "source": [
    "from sklearn.naive_bayes import MultinomialNB\n",
    "from sklearn.linear_model import LogisticRegression\n",
    "\n",
    "X_positive = list(map(vectorize, verbs.keys()))\n",
    "X_negative = list(map(vectorize, non_verbs.keys()))\n",
    "\n",
    "y_positive = [1] * len(X_positive)\n",
    "y_negative = [0] * len(X_negative)\n",
    "\n",
    "X_train_pos, X_test_pos, y_train_pos, y_test_pos = train_test_split(X_positive, y_positive)\n",
    "X_train_neg, X_test_neg, y_train_neg, y_test_neg = train_test_split(X_negative, y_negative)\n",
    "\n",
    "X_train = X_train_pos + X_train_neg\n",
    "y_train = y_train_pos + y_train_neg"
   ]
  },
  {
   "cell_type": "code",
   "execution_count": 14,
   "metadata": {
    "ExecuteTime": {
     "end_time": "2019-02-20T13:50:16.717158Z",
     "start_time": "2019-02-20T13:50:16.714510Z"
    }
   },
   "outputs": [],
   "source": [
    "pos_sample_weight = 1\n",
    "neg_sample_weight = 1\n",
    "sample_weights = ([pos_sample_weight] * len(X_train_pos)) + ([neg_sample_weight] * len(X_train_neg))"
   ]
  },
  {
   "cell_type": "code",
   "execution_count": 15,
   "metadata": {
    "ExecuteTime": {
     "end_time": "2019-02-20T13:50:22.391875Z",
     "start_time": "2019-02-20T13:50:16.718724Z"
    }
   },
   "outputs": [
    {
     "data": {
      "text/plain": [
       "MultinomialNB(alpha=1.0, class_prior=None, fit_prior=True)"
      ]
     },
     "execution_count": 15,
     "metadata": {},
     "output_type": "execute_result"
    }
   ],
   "source": [
    "clf = MultinomialNB()\n",
    "#clf = LogisticRegression()\n",
    "\n",
    "clf.fit(X_train, y_train, sample_weights)"
   ]
  },
  {
   "cell_type": "code",
   "execution_count": 16,
   "metadata": {
    "ExecuteTime": {
     "end_time": "2019-02-20T13:50:22.407735Z",
     "start_time": "2019-02-20T13:50:22.396025Z"
    }
   },
   "outputs": [
    {
     "data": {
      "text/plain": [
       "[(-10.66134511446483, ';ה'),\n",
       " (-10.66134511446483, '1מ'),\n",
       " (-10.66134511446483, '6ס'),\n",
       " (-10.66134511446483, '%מ'),\n",
       " (-10.66134511446483, '5ד'),\n",
       " (-10.66134511446483, ';ט'),\n",
       " (-10.66134511446483, ')6'),\n",
       " (-9.56273282579672, 'חן'),\n",
       " (-7.716906135298389, 'עצ'),\n",
       " (-10.66134511446483, '0צ'),\n",
       " (-10.66134511446483, ',4'),\n",
       " (-10.66134511446483, '08'),\n",
       " (-10.66134511446483, '9ו'),\n",
       " (-10.66134511446483, '):'),\n",
       " (-10.66134511446483, ',ם'),\n",
       " (-10.66134511446483, '?ו'),\n",
       " (-6.384678995448774, 'מצ'),\n",
       " (-8.715434965409516, 'דנ'),\n",
       " (-7.050427201820606, 'אר'),\n",
       " (-5.022990445131084, 'ט'),\n",
       " (-10.66134511446483, '5ר'),\n",
       " (-10.66134511446483, '\"ן'),\n",
       " (-10.66134511446483, ',י'),\n",
       " (-9.968197933904884, 'אצ'),\n",
       " (-10.66134511446483, '1ם'),\n",
       " (-10.66134511446483, '.ח'),\n",
       " (-10.66134511446483, '-ח'),\n",
       " (-5.9979060203527625, 'בי'),\n",
       " (-6.456652495073864, 'ופ'),\n",
       " (-7.294049284478355, 'טל')]"
      ]
     },
     "execution_count": 16,
     "metadata": {},
     "output_type": "execute_result"
    }
   ],
   "source": [
    "model_coefficients = list(zip(clf.coef_[0], ngrams))\n",
    "random.sample(list(model_coefficients), 30)"
   ]
  },
  {
   "cell_type": "code",
   "execution_count": 17,
   "metadata": {
    "ExecuteTime": {
     "end_time": "2019-02-20T13:50:22.496921Z",
     "start_time": "2019-02-20T13:50:22.410334Z"
    }
   },
   "outputs": [
    {
     "data": {
      "text/plain": [
       "[(-3.079115920188368, 'ו'),\n",
       " (-3.151462053309916, 'י'),\n",
       " (-3.4439016827682964, 'ה'),\n",
       " (-3.472177376044507, 'ת'),\n",
       " (-3.5897717502532975, 'מ'),\n",
       " (-3.6086240652325063, 'ל'),\n",
       " (-3.673854867463839, 'ר'),\n",
       " (-3.863404701489899, 'נ'),\n",
       " (-3.972990400518068, 'ש'),\n",
       " (-4.1392523162946775, 'ע'),\n",
       " (-4.155561054336601, 'ב'),\n",
       " (-4.199876938111112, 'ח'),\n",
       " (-4.246248155293234, 'ק'),\n",
       " (-4.397946851873206, 'פ'),\n",
       " (-4.423020489425322, 'ם'),\n",
       " (-4.563270832298589, 'ד'),\n",
       " (-4.579126204088383, 'ס'),\n",
       " (-4.652531929022235, 'כ'),\n",
       " (-4.662408552518147, 'ים'),\n",
       " (-4.664893025845808, 'א'),\n",
       " (-4.729099927016819, 'צ'),\n",
       " (-4.742451260191683, 'ג'),\n",
       " (-5.022990445131084, 'ט'),\n",
       " (-5.112269029569609, 'ות'),\n",
       " (-5.304758839792817, 'יי'),\n",
       " (-5.3190108625000185, 'ז'),\n",
       " (-5.328626321199461, 'הת'),\n",
       " (-5.462848083199003, 'הו'),\n",
       " (-5.543351302048074, 'מת'),\n",
       " (-5.617919997545583, 'ור'),\n",
       " (-5.664132840700715, 'יר'),\n",
       " (-5.817158028006238, 'יע'),\n",
       " (-5.907754923358465, 'ן'),\n",
       " (-5.988516280002924, 'מש'),\n",
       " (-5.9979060203527625, 'בי'),\n",
       " (-6.016954215323457, 'בו'),\n",
       " (-6.06622526433024, 'יש'),\n",
       " (-6.128745621311573, 'יק'),\n",
       " (-6.17270874473269, 'שת'),\n",
       " (-6.230528315621516, 'ול'),\n",
       " (-6.230528315621516, 'וש'),\n",
       " (-6.26689595979239, 'ית'),\n",
       " (-6.304636287775238, 'וו'),\n",
       " (-6.317539692611145, 'חי'),\n",
       " (-6.330611774178498, 'ימ'),\n",
       " (-6.343857000928519, 'ף'),\n",
       " (-6.343857000928519, 'או'),\n",
       " (-6.357280021260659, 'הי'),\n",
       " (-6.357280021260659, 'וע'),\n",
       " (-6.357280021260659, 'יל'),\n",
       " (-6.384678995448774, 'מצ'),\n",
       " (-6.4418374092887225, 'דו'),\n",
       " (-6.4418374092887225, 'נת'),\n",
       " (-6.456652495073864, 'ופ'),\n",
       " (-6.471690372438404, 'וק'),\n",
       " (-6.502462031105158, 'גי'),\n",
       " (-6.502462031105158, 'פר'),\n",
       " (-6.518210388073297, 'הש'),\n",
       " (-6.518210388073297, 'מס'),\n",
       " (-6.518210388073297, 'מע'),\n",
       " (-6.534210729419738, 'ך'),\n",
       " (-6.534210729419738, 'וצ'),\n",
       " (-6.534210729419738, 'יצ'),\n",
       " (-6.534210729419738, 'נע'),\n",
       " (-6.58380767055911, 'בר'),\n",
       " (-6.58380767055911, 'יפ'),\n",
       " (-6.60090210391841, 'די'),\n",
       " (-6.618293846630279, 'ינ'),\n",
       " (-6.63599342372968, 'אי'),\n",
       " (-6.63599342372968, 'רת'),\n",
       " (-6.654011929232358, 'סת'),\n",
       " (-6.691053200912707, 'ונ'),\n",
       " (-6.710101395883402, 'מנ'),\n",
       " (-6.710101395883402, 'מר'),\n",
       " (-6.710101395883402, 'רר'),\n",
       " (-6.729519481740503, 'חל'),\n",
       " (-6.749322109036683, 'הס'),\n",
       " (-6.749322109036683, 'וכ'),\n",
       " (-6.769524816354203, 'קר'),\n",
       " (-6.811197512754771, 'גו'),\n",
       " (-6.811197512754771, 'נש'),\n",
       " (-6.832703717975734, 'כר'),\n",
       " (-6.832703717975734, 'למ'),\n",
       " (-6.832703717975734, 'רש'),\n",
       " (-6.85468262469451, 'בל'),\n",
       " (-6.85468262469451, 'וט'),\n",
       " (-6.85468262469451, 'יכ'),\n",
       " (-6.85468262469451, 'יס'),\n",
       " (-6.85468262469451, 'כנ'),\n",
       " (-6.877155480546568, 'ץ'),\n",
       " (-6.877155480546568, 'וח'),\n",
       " (-6.877155480546568, 'וס'),\n",
       " (-6.877155480546568, 'לע'),\n",
       " (-6.877155480546568, 'פת'),\n",
       " (-6.9001449987712675, 'הר'),\n",
       " (-6.9001449987712675, 'טי'),\n",
       " (-6.9001449987712675, 'נס'),\n",
       " (-6.9236754961814615, 'חר'),\n",
       " (-6.9477730477605215, 'לש'),\n",
       " (-6.972465660350894, 'לק'),\n",
       " (-6.997783468335183, 'גר'),\n",
       " (-6.997783468335183, 'ער'),\n",
       " (-7.023758954738444, 'הפ'),\n",
       " (-7.023758954738444, 'חש'),\n",
       " (-7.023758954738444, 'ין'),\n",
       " (-7.050427201820606, 'אר'),\n",
       " (-7.050427201820606, 'חת'),\n",
       " (-7.050427201820606, 'מק'),\n",
       " (-7.050427201820606, 'פק'),\n",
       " (-7.0778261760087195, 'גש'),\n",
       " (-7.0778261760087195, 'דר'),\n",
       " (-7.0778261760087195, 'הצ'),\n",
       " (-7.0778261760087195, 'קש'),\n",
       " (-7.105997052975416, 'בע'),\n",
       " (-7.105997052975416, 'זר'),\n",
       " (-7.105997052975416, 'לת'),\n",
       " (-7.134984589848668, 'מפ'),\n",
       " (-7.134984589848668, 'נק'),\n",
       " (-7.134984589848668, 'עת'),\n",
       " (-7.16483755299835, 'בק'),\n",
       " (-7.16483755299835, 'נפ'),\n",
       " (-7.1956092116651025, 'הע'),\n",
       " (-7.227357909979683, 'בט'),\n",
       " (-7.227357909979683, 'דה'),\n",
       " (-7.227357909979683, 'ומ'),\n",
       " (-7.227357909979683, 'זי'),\n",
       " (-7.227357909979683, 'לל'),\n",
       " (-7.260147732802674, 'טר'),\n",
       " (-7.294049284478355, 'הח'),\n",
       " (-7.294049284478355, 'חק'),\n",
       " (-7.294049284478355, 'טל'),\n",
       " (-7.294049284478355, 'תת'),\n",
       " (-7.329140604289625, 'וי'),\n",
       " (-7.329140604289625, 'כל'),\n",
       " (-7.329140604289625, 'ספ'),\n",
       " (-7.3655082484605, 'בת'),\n",
       " (-7.3655082484605, 'הנ'),\n",
       " (-7.3655082484605, 'כת'),\n",
       " (-7.403248576443348, 'אב'),\n",
       " (-7.403248576443348, 'בד'),\n",
       " (-7.403248576443348, 'בש'),\n",
       " (-7.403248576443348, 'חס'),\n",
       " (-7.403248576443348, 'ממ'),\n",
       " (-7.4424692895966285, 'הכ'),\n",
       " (-7.4424692895966285, 'זכ'),\n",
       " (-7.4424692895966285, 'לנ'),\n",
       " (-7.4424692895966285, 'נר'),\n",
       " (-7.4424692895966285, 'סר'),\n",
       " (-7.4424692895966285, 'פש'),\n",
       " (-7.483291284116884, 'גל'),\n",
       " (-7.483291284116884, 'המ'),\n",
       " (-7.483291284116884, 'הק'),\n",
       " (-7.483291284116884, 'עש'),\n",
       " (-7.483291284116884, 'צר'),\n",
       " (-7.52585089853568, 'ום'),\n",
       " (-7.52585089853568, 'לפ'),\n",
       " (-7.570302661106513, 'אה'),\n",
       " (-7.570302661106513, 'אמ'),\n",
       " (-7.570302661106513, 'גד'),\n",
       " (-7.570302661106513, 'דק'),\n",
       " (-7.570302661106513, 'לס'),\n",
       " (-7.570302661106513, 'ננ'),\n",
       " (-7.616822676741407, 'את'),\n",
       " (-7.616822676741407, 'בה'),\n",
       " (-7.616822676741407, 'גע'),\n",
       " (-7.616822676741407, 'לצ'),\n",
       " (-7.665612840910839, 'אל'),\n",
       " (-7.665612840910839, 'בח'),\n",
       " (-7.716906135298389, 'דח'),\n",
       " (-7.716906135298389, 'דל'),\n",
       " (-7.716906135298389, 'טע'),\n",
       " (-7.716906135298389, 'כש'),\n",
       " (-7.716906135298389, 'עצ'),\n",
       " (-7.770973356568665, 'גנ'),\n",
       " (-7.770973356568665, 'הז'),\n",
       " (-7.770973356568665, 'וז'),\n",
       " (-7.828131770408613, 'אפ'),\n",
       " (-7.828131770408613, 'הל'),\n",
       " (-7.888756392225048, 'דת'),\n",
       " (-7.888756392225048, 'חמ'),\n",
       " (-7.888756392225048, 'לם'),\n",
       " (-7.953294913362619, 'דד'),\n",
       " (-7.953294913362619, 'זמ'),\n",
       " (-7.953294913362619, 'חנ'),\n",
       " (-7.953294913362619, 'יף'),\n",
       " (-7.953294913362619, 'נצ'),\n",
       " (-7.953294913362619, 'סס'),\n",
       " (-7.953294913362619, 'סק'),\n",
       " (-7.953294913362619, 'קת'),\n",
       " (-8.02228778484957, 'אש'),\n",
       " (-8.02228778484957, 'ון'),\n",
       " (-8.02228778484957, 'וף'),\n",
       " (-8.096395757003293, 'בנ'),\n",
       " (-8.096395757003293, 'וך'),\n",
       " (-8.096395757003293, 'לר'),\n",
       " (-8.17643846467683, 'בס'),\n",
       " (-8.17643846467683, 'בצ'),\n",
       " (-8.17643846467683, 'דע'),\n",
       " (-8.17643846467683, 'מן'),\n",
       " (-8.17643846467683, 'עק'),\n",
       " (-8.17643846467683, 'פצ'),\n",
       " (-8.263449841666459, 'גמ'),\n",
       " (-8.263449841666459, 'הט'),\n",
       " (-8.263449841666459, 'זק'),\n",
       " (-8.263449841666459, 'יך'),\n",
       " (-8.358760021470783, 'דש'),\n",
       " (-8.358760021470783, 'כפ'),\n",
       " (-8.358760021470783, 'לץ'),\n",
       " (-8.358760021470783, 'סע'),\n",
       " (-8.358760021470783, 'צת'),\n",
       " (-8.46412053712861, 'אח'),\n",
       " (-8.46412053712861, 'אכ'),\n",
       " (-8.46412053712861, 'אנ'),\n",
       " (-8.46412053712861, 'אס'),\n",
       " (-8.46412053712861, 'דמ'),\n",
       " (-8.46412053712861, 'דפ'),\n",
       " (-8.46412053712861, 'טפ'),\n",
       " (-8.46412053712861, 'יץ'),\n",
       " (-8.46412053712861, 'כן'),\n",
       " (-8.581903572784993, 'גה'),\n",
       " (-8.581903572784993, 'גן'),\n",
       " (-8.581903572784993, 'גת'),\n",
       " (-8.581903572784993, 'דף'),\n",
       " (-8.581903572784993, 'טט'),\n",
       " (-8.581903572784993, 'טת'),\n",
       " (-8.715434965409516, 'דכ'),\n",
       " (-8.715434965409516, 'דנ'),\n",
       " (-8.715434965409516, 'חט'),\n",
       " (-8.715434965409516, 'חף'),\n",
       " (-8.715434965409516, 'חפ'),\n",
       " (-8.715434965409516, 'כמ'),\n",
       " (-8.869585645236775, 'בץ'),\n",
       " (-8.869585645236775, 'גז'),\n",
       " (-8.869585645236775, 'הה'),\n",
       " (-8.869585645236775, 'חכ'),\n",
       " (-8.869585645236775, 'חם'),\n",
       " (-8.869585645236775, 'טמ'),\n",
       " (-8.869585645236775, 'כם'),\n",
       " (-8.869585645236775, 'כס'),\n",
       " (-8.869585645236775, 'לף'),\n",
       " (-8.869585645236775, 'פפ'),\n",
       " (-8.869585645236775, 'קק'),\n",
       " (-9.05190720203073, 'בב'),\n",
       " (-9.05190720203073, 'גם'),\n",
       " (-9.05190720203073, 'הן'),\n",
       " (-9.05190720203073, 'וץ'),\n",
       " (-9.05190720203073, 'זל'),\n",
       " (-9.05190720203073, 'זנ'),\n",
       " (-9.05190720203073, 'זע'),\n",
       " (-9.05190720203073, 'טנ'),\n",
       " (-9.05190720203073, 'מץ'),\n",
       " (-9.05190720203073, 'סף'),\n",
       " (-9.05190720203073, 'פץ'),\n",
       " (-9.05190720203073, 'צצ'),\n",
       " (-9.05190720203073, 'שש'),\n",
       " (-9.275050753344939, 'אג'),\n",
       " (-9.275050753344939, 'אז'),\n",
       " (-9.275050753344939, 'בג'),\n",
       " (-9.275050753344939, 'בז'),\n",
       " (-9.275050753344939, 'בכ'),\n",
       " (-9.275050753344939, 'גג'),\n",
       " (-9.275050753344939, 'גח'),\n",
       " (-9.275050753344939, 'חצ'),\n",
       " (-9.275050753344939, 'טש'),\n",
       " (-9.56273282579672, 'אם'),\n",
       " (-9.56273282579672, 'בך'),\n",
       " (-9.56273282579672, 'דם'),\n",
       " (-9.56273282579672, 'זז'),\n",
       " (-9.56273282579672, 'זת'),\n",
       " (-9.56273282579672, 'חן'),\n",
       " (-9.56273282579672, 'טף'),\n",
       " (-9.968197933904884, 'אט'),\n",
       " (-9.968197933904884, 'אע'),\n",
       " (-9.968197933904884, 'אצ'),\n",
       " (-9.968197933904884, 'אק'),\n",
       " (-9.968197933904884, 'גס'),\n",
       " (-9.968197933904884, 'הם'),\n",
       " (-9.968197933904884, 'זם'),\n",
       " (-9.968197933904884, 'זן'),\n",
       " (-9.968197933904884, 'זפ'),\n",
       " (-9.968197933904884, 'חח'),\n",
       " (-9.968197933904884, 'טן'),\n",
       " (-9.968197933904884, 'טס'),\n",
       " (-9.968197933904884, 'ככ'),\n",
       " (-9.968197933904884, 'לן'),\n",
       " (-9.968197933904884, 'עע'),\n",
       " (-9.968197933904884, 'עף'),\n",
       " (-9.968197933904884, 'עפ'),\n",
       " (-9.968197933904884, 'עץ'),\n",
       " (-9.968197933904884, 'צק'),\n",
       " (-10.66134511446483, '!'),\n",
       " (-10.66134511446483, '\"'),\n",
       " (-10.66134511446483, '%'),\n",
       " (-10.66134511446483, '('),\n",
       " (-10.66134511446483, ')'),\n",
       " (-10.66134511446483, ','),\n",
       " (-10.66134511446483, '-'),\n",
       " (-10.66134511446483, '.'),\n",
       " (-10.66134511446483, '0'),\n",
       " (-10.66134511446483, '1'),\n",
       " (-10.66134511446483, '2'),\n",
       " (-10.66134511446483, '3'),\n",
       " (-10.66134511446483, '4'),\n",
       " (-10.66134511446483, '5'),\n",
       " (-10.66134511446483, '6'),\n",
       " (-10.66134511446483, '7'),\n",
       " (-10.66134511446483, '8'),\n",
       " (-10.66134511446483, '9'),\n",
       " (-10.66134511446483, ':'),\n",
       " (-10.66134511446483, ';'),\n",
       " (-10.66134511446483, '?'),\n",
       " (-10.66134511446483, '_'),\n",
       " (-10.66134511446483, '!!'),\n",
       " (-10.66134511446483, '!\"'),\n",
       " (-10.66134511446483, '!%'),\n",
       " (-10.66134511446483, '!('),\n",
       " (-10.66134511446483, '!)'),\n",
       " (-10.66134511446483, '!,'),\n",
       " (-10.66134511446483, '!-'),\n",
       " (-10.66134511446483, '!.'),\n",
       " (-10.66134511446483, '!0'),\n",
       " (-10.66134511446483, '!1'),\n",
       " (-10.66134511446483, '!2'),\n",
       " (-10.66134511446483, '!3'),\n",
       " (-10.66134511446483, '!4'),\n",
       " (-10.66134511446483, '!5'),\n",
       " (-10.66134511446483, '!6'),\n",
       " (-10.66134511446483, '!7'),\n",
       " (-10.66134511446483, '!8'),\n",
       " (-10.66134511446483, '!9'),\n",
       " (-10.66134511446483, '!:'),\n",
       " (-10.66134511446483, '!;'),\n",
       " (-10.66134511446483, '!?'),\n",
       " (-10.66134511446483, '!_'),\n",
       " (-10.66134511446483, '!א'),\n",
       " (-10.66134511446483, '!ב'),\n",
       " (-10.66134511446483, '!ג'),\n",
       " (-10.66134511446483, '!ד'),\n",
       " (-10.66134511446483, '!ה'),\n",
       " (-10.66134511446483, '!ו'),\n",
       " (-10.66134511446483, '!ז'),\n",
       " (-10.66134511446483, '!ח'),\n",
       " (-10.66134511446483, '!ט'),\n",
       " (-10.66134511446483, '!י'),\n",
       " (-10.66134511446483, '!ך'),\n",
       " (-10.66134511446483, '!כ'),\n",
       " (-10.66134511446483, '!ל'),\n",
       " (-10.66134511446483, '!ם'),\n",
       " (-10.66134511446483, '!מ'),\n",
       " (-10.66134511446483, '!ן'),\n",
       " (-10.66134511446483, '!נ'),\n",
       " (-10.66134511446483, '!ס'),\n",
       " (-10.66134511446483, '!ע'),\n",
       " (-10.66134511446483, '!ף'),\n",
       " (-10.66134511446483, '!פ'),\n",
       " (-10.66134511446483, '!ץ'),\n",
       " (-10.66134511446483, '!צ'),\n",
       " (-10.66134511446483, '!ק'),\n",
       " (-10.66134511446483, '!ר'),\n",
       " (-10.66134511446483, '!ש'),\n",
       " (-10.66134511446483, '!ת'),\n",
       " (-10.66134511446483, '\"\"'),\n",
       " (-10.66134511446483, '\"%'),\n",
       " (-10.66134511446483, '\"('),\n",
       " (-10.66134511446483, '\")'),\n",
       " (-10.66134511446483, '\",'),\n",
       " (-10.66134511446483, '\"-'),\n",
       " (-10.66134511446483, '\".'),\n",
       " (-10.66134511446483, '\"0'),\n",
       " (-10.66134511446483, '\"1'),\n",
       " (-10.66134511446483, '\"2'),\n",
       " (-10.66134511446483, '\"3'),\n",
       " (-10.66134511446483, '\"4'),\n",
       " (-10.66134511446483, '\"5'),\n",
       " (-10.66134511446483, '\"6'),\n",
       " (-10.66134511446483, '\"7'),\n",
       " (-10.66134511446483, '\"8'),\n",
       " (-10.66134511446483, '\"9'),\n",
       " (-10.66134511446483, '\":'),\n",
       " (-10.66134511446483, '\";'),\n",
       " (-10.66134511446483, '\"?'),\n",
       " (-10.66134511446483, '\"_'),\n",
       " (-10.66134511446483, '\"א'),\n",
       " (-10.66134511446483, '\"ב'),\n",
       " (-10.66134511446483, '\"ג'),\n",
       " (-10.66134511446483, '\"ד'),\n",
       " (-10.66134511446483, '\"ה'),\n",
       " (-10.66134511446483, '\"ו'),\n",
       " (-10.66134511446483, '\"ז'),\n",
       " (-10.66134511446483, '\"ח'),\n",
       " (-10.66134511446483, '\"ט'),\n",
       " (-10.66134511446483, '\"י'),\n",
       " (-10.66134511446483, '\"ך'),\n",
       " (-10.66134511446483, '\"כ'),\n",
       " (-10.66134511446483, '\"ל'),\n",
       " (-10.66134511446483, '\"ם'),\n",
       " (-10.66134511446483, '\"מ'),\n",
       " (-10.66134511446483, '\"ן'),\n",
       " (-10.66134511446483, '\"נ'),\n",
       " (-10.66134511446483, '\"ס'),\n",
       " (-10.66134511446483, '\"ע'),\n",
       " (-10.66134511446483, '\"ף'),\n",
       " (-10.66134511446483, '\"פ'),\n",
       " (-10.66134511446483, '\"ץ'),\n",
       " (-10.66134511446483, '\"צ'),\n",
       " (-10.66134511446483, '\"ק'),\n",
       " (-10.66134511446483, '\"ר'),\n",
       " (-10.66134511446483, '\"ש'),\n",
       " (-10.66134511446483, '\"ת'),\n",
       " (-10.66134511446483, '%%'),\n",
       " (-10.66134511446483, '%('),\n",
       " (-10.66134511446483, '%)'),\n",
       " (-10.66134511446483, '%,'),\n",
       " (-10.66134511446483, '%-'),\n",
       " (-10.66134511446483, '%.'),\n",
       " (-10.66134511446483, '%0'),\n",
       " (-10.66134511446483, '%1'),\n",
       " (-10.66134511446483, '%2'),\n",
       " (-10.66134511446483, '%3'),\n",
       " (-10.66134511446483, '%4'),\n",
       " (-10.66134511446483, '%5'),\n",
       " (-10.66134511446483, '%6'),\n",
       " (-10.66134511446483, '%7'),\n",
       " (-10.66134511446483, '%8'),\n",
       " (-10.66134511446483, '%9'),\n",
       " (-10.66134511446483, '%:'),\n",
       " (-10.66134511446483, '%;'),\n",
       " (-10.66134511446483, '%?'),\n",
       " (-10.66134511446483, '%_'),\n",
       " (-10.66134511446483, '%א'),\n",
       " (-10.66134511446483, '%ב'),\n",
       " (-10.66134511446483, '%ג'),\n",
       " (-10.66134511446483, '%ד'),\n",
       " (-10.66134511446483, '%ה'),\n",
       " (-10.66134511446483, '%ו'),\n",
       " (-10.66134511446483, '%ז'),\n",
       " (-10.66134511446483, '%ח'),\n",
       " (-10.66134511446483, '%ט'),\n",
       " (-10.66134511446483, '%י'),\n",
       " (-10.66134511446483, '%ך'),\n",
       " (-10.66134511446483, '%כ'),\n",
       " (-10.66134511446483, '%ל'),\n",
       " (-10.66134511446483, '%ם'),\n",
       " (-10.66134511446483, '%מ'),\n",
       " (-10.66134511446483, '%ן'),\n",
       " (-10.66134511446483, '%נ'),\n",
       " (-10.66134511446483, '%ס'),\n",
       " (-10.66134511446483, '%ע'),\n",
       " (-10.66134511446483, '%ף'),\n",
       " (-10.66134511446483, '%פ'),\n",
       " (-10.66134511446483, '%ץ'),\n",
       " (-10.66134511446483, '%צ'),\n",
       " (-10.66134511446483, '%ק'),\n",
       " (-10.66134511446483, '%ר'),\n",
       " (-10.66134511446483, '%ש'),\n",
       " (-10.66134511446483, '%ת'),\n",
       " (-10.66134511446483, '(('),\n",
       " (-10.66134511446483, '()'),\n",
       " (-10.66134511446483, '(,'),\n",
       " (-10.66134511446483, '(-'),\n",
       " (-10.66134511446483, '(.'),\n",
       " (-10.66134511446483, '(0'),\n",
       " (-10.66134511446483, '(1'),\n",
       " (-10.66134511446483, '(2'),\n",
       " (-10.66134511446483, '(3'),\n",
       " (-10.66134511446483, '(4'),\n",
       " (-10.66134511446483, '(5'),\n",
       " (-10.66134511446483, '(6'),\n",
       " (-10.66134511446483, '(7'),\n",
       " (-10.66134511446483, '(8'),\n",
       " (-10.66134511446483, '(9'),\n",
       " (-10.66134511446483, '(:'),\n",
       " (-10.66134511446483, '(;'),\n",
       " (-10.66134511446483, '(?'),\n",
       " (-10.66134511446483, '(_'),\n",
       " (-10.66134511446483, '(א'),\n",
       " (-10.66134511446483, '(ב'),\n",
       " (-10.66134511446483, '(ג'),\n",
       " (-10.66134511446483, '(ד'),\n",
       " (-10.66134511446483, '(ה'),\n",
       " (-10.66134511446483, '(ו'),\n",
       " (-10.66134511446483, '(ז'),\n",
       " (-10.66134511446483, '(ח'),\n",
       " (-10.66134511446483, '(ט'),\n",
       " (-10.66134511446483, '(י'),\n",
       " (-10.66134511446483, '(ך'),\n",
       " (-10.66134511446483, '(כ'),\n",
       " (-10.66134511446483, '(ל'),\n",
       " (-10.66134511446483, '(ם'),\n",
       " (-10.66134511446483, '(מ'),\n",
       " (-10.66134511446483, '(ן'),\n",
       " (-10.66134511446483, '(נ'),\n",
       " (-10.66134511446483, '(ס'),\n",
       " (-10.66134511446483, '(ע'),\n",
       " (-10.66134511446483, '(ף'),\n",
       " (-10.66134511446483, '(פ'),\n",
       " (-10.66134511446483, '(ץ'),\n",
       " (-10.66134511446483, '(צ'),\n",
       " (-10.66134511446483, '(ק'),\n",
       " (-10.66134511446483, '(ר'),\n",
       " (-10.66134511446483, '(ש'),\n",
       " (-10.66134511446483, '(ת'),\n",
       " (-10.66134511446483, '))'),\n",
       " (-10.66134511446483, '),'),\n",
       " (-10.66134511446483, ')-'),\n",
       " (-10.66134511446483, ').'),\n",
       " (-10.66134511446483, ')0'),\n",
       " (-10.66134511446483, ')1'),\n",
       " (-10.66134511446483, ')2'),\n",
       " (-10.66134511446483, ')3'),\n",
       " (-10.66134511446483, ')4'),\n",
       " (-10.66134511446483, ')5'),\n",
       " (-10.66134511446483, ')6'),\n",
       " (-10.66134511446483, ')7'),\n",
       " (-10.66134511446483, ')8'),\n",
       " (-10.66134511446483, ')9'),\n",
       " (-10.66134511446483, '):'),\n",
       " (-10.66134511446483, ');'),\n",
       " (-10.66134511446483, ')?'),\n",
       " (-10.66134511446483, ')_'),\n",
       " (-10.66134511446483, ')א'),\n",
       " (-10.66134511446483, ')ב'),\n",
       " (-10.66134511446483, ')ג'),\n",
       " (-10.66134511446483, ')ד'),\n",
       " (-10.66134511446483, ')ה'),\n",
       " (-10.66134511446483, ')ו'),\n",
       " (-10.66134511446483, ')ז'),\n",
       " (-10.66134511446483, ')ח'),\n",
       " (-10.66134511446483, ')ט'),\n",
       " (-10.66134511446483, ')י'),\n",
       " (-10.66134511446483, ')ך'),\n",
       " (-10.66134511446483, ')כ'),\n",
       " (-10.66134511446483, ')ל'),\n",
       " (-10.66134511446483, ')ם'),\n",
       " (-10.66134511446483, ')מ'),\n",
       " (-10.66134511446483, ')ן'),\n",
       " (-10.66134511446483, ')נ'),\n",
       " (-10.66134511446483, ')ס'),\n",
       " (-10.66134511446483, ')ע'),\n",
       " (-10.66134511446483, ')ף'),\n",
       " (-10.66134511446483, ')פ'),\n",
       " (-10.66134511446483, ')ץ'),\n",
       " (-10.66134511446483, ')צ'),\n",
       " (-10.66134511446483, ')ק'),\n",
       " (-10.66134511446483, ')ר'),\n",
       " (-10.66134511446483, ')ש'),\n",
       " (-10.66134511446483, ')ת'),\n",
       " (-10.66134511446483, ',,'),\n",
       " (-10.66134511446483, ',-'),\n",
       " (-10.66134511446483, ',.'),\n",
       " (-10.66134511446483, ',0'),\n",
       " (-10.66134511446483, ',1'),\n",
       " (-10.66134511446483, ',2'),\n",
       " (-10.66134511446483, ',3'),\n",
       " (-10.66134511446483, ',4'),\n",
       " (-10.66134511446483, ',5'),\n",
       " (-10.66134511446483, ',6'),\n",
       " (-10.66134511446483, ',7'),\n",
       " (-10.66134511446483, ',8'),\n",
       " (-10.66134511446483, ',9'),\n",
       " (-10.66134511446483, ',:'),\n",
       " (-10.66134511446483, ',;'),\n",
       " (-10.66134511446483, ',?'),\n",
       " (-10.66134511446483, ',_'),\n",
       " (-10.66134511446483, ',א'),\n",
       " (-10.66134511446483, ',ב'),\n",
       " (-10.66134511446483, ',ג'),\n",
       " (-10.66134511446483, ',ד'),\n",
       " (-10.66134511446483, ',ה'),\n",
       " (-10.66134511446483, ',ו'),\n",
       " (-10.66134511446483, ',ז'),\n",
       " (-10.66134511446483, ',ח'),\n",
       " (-10.66134511446483, ',ט'),\n",
       " (-10.66134511446483, ',י'),\n",
       " (-10.66134511446483, ',ך'),\n",
       " (-10.66134511446483, ',כ'),\n",
       " (-10.66134511446483, ',ל'),\n",
       " (-10.66134511446483, ',ם'),\n",
       " (-10.66134511446483, ',מ'),\n",
       " (-10.66134511446483, ',ן'),\n",
       " (-10.66134511446483, ',נ'),\n",
       " (-10.66134511446483, ',ס'),\n",
       " (-10.66134511446483, ',ע'),\n",
       " (-10.66134511446483, ',ף'),\n",
       " (-10.66134511446483, ',פ'),\n",
       " (-10.66134511446483, ',ץ'),\n",
       " (-10.66134511446483, ',צ'),\n",
       " (-10.66134511446483, ',ק'),\n",
       " (-10.66134511446483, ',ר'),\n",
       " (-10.66134511446483, ',ש'),\n",
       " (-10.66134511446483, ',ת'),\n",
       " (-10.66134511446483, '--'),\n",
       " (-10.66134511446483, '-.'),\n",
       " (-10.66134511446483, '-0'),\n",
       " (-10.66134511446483, '-1'),\n",
       " (-10.66134511446483, '-2'),\n",
       " (-10.66134511446483, '-3'),\n",
       " (-10.66134511446483, '-4'),\n",
       " (-10.66134511446483, '-5'),\n",
       " (-10.66134511446483, '-6'),\n",
       " (-10.66134511446483, '-7'),\n",
       " (-10.66134511446483, '-8'),\n",
       " (-10.66134511446483, '-9'),\n",
       " (-10.66134511446483, '-:'),\n",
       " (-10.66134511446483, '-;'),\n",
       " (-10.66134511446483, '-?'),\n",
       " (-10.66134511446483, '-_'),\n",
       " (-10.66134511446483, '-א'),\n",
       " (-10.66134511446483, '-ב'),\n",
       " (-10.66134511446483, '-ג'),\n",
       " (-10.66134511446483, '-ד'),\n",
       " (-10.66134511446483, '-ה'),\n",
       " (-10.66134511446483, '-ו'),\n",
       " (-10.66134511446483, '-ז'),\n",
       " (-10.66134511446483, '-ח'),\n",
       " (-10.66134511446483, '-ט'),\n",
       " (-10.66134511446483, '-י'),\n",
       " (-10.66134511446483, '-ך'),\n",
       " (-10.66134511446483, '-כ'),\n",
       " (-10.66134511446483, '-ל'),\n",
       " (-10.66134511446483, '-ם'),\n",
       " (-10.66134511446483, '-מ'),\n",
       " (-10.66134511446483, '-ן'),\n",
       " (-10.66134511446483, '-נ'),\n",
       " (-10.66134511446483, '-ס'),\n",
       " (-10.66134511446483, '-ע'),\n",
       " (-10.66134511446483, '-ף'),\n",
       " (-10.66134511446483, '-פ'),\n",
       " (-10.66134511446483, '-ץ'),\n",
       " (-10.66134511446483, '-צ'),\n",
       " (-10.66134511446483, '-ק'),\n",
       " (-10.66134511446483, '-ר'),\n",
       " (-10.66134511446483, '-ש'),\n",
       " (-10.66134511446483, '-ת'),\n",
       " (-10.66134511446483, '..'),\n",
       " (-10.66134511446483, '.0'),\n",
       " (-10.66134511446483, '.1'),\n",
       " (-10.66134511446483, '.2'),\n",
       " (-10.66134511446483, '.3'),\n",
       " (-10.66134511446483, '.4'),\n",
       " (-10.66134511446483, '.5'),\n",
       " (-10.66134511446483, '.6'),\n",
       " (-10.66134511446483, '.7'),\n",
       " (-10.66134511446483, '.8'),\n",
       " (-10.66134511446483, '.9'),\n",
       " (-10.66134511446483, '.:'),\n",
       " (-10.66134511446483, '.;'),\n",
       " (-10.66134511446483, '.?'),\n",
       " (-10.66134511446483, '._'),\n",
       " (-10.66134511446483, '.א'),\n",
       " (-10.66134511446483, '.ב'),\n",
       " (-10.66134511446483, '.ג'),\n",
       " (-10.66134511446483, '.ד'),\n",
       " (-10.66134511446483, '.ה'),\n",
       " (-10.66134511446483, '.ו'),\n",
       " (-10.66134511446483, '.ז'),\n",
       " (-10.66134511446483, '.ח'),\n",
       " (-10.66134511446483, '.ט'),\n",
       " (-10.66134511446483, '.י'),\n",
       " (-10.66134511446483, '.ך'),\n",
       " (-10.66134511446483, '.כ'),\n",
       " (-10.66134511446483, '.ל'),\n",
       " (-10.66134511446483, '.ם'),\n",
       " (-10.66134511446483, '.מ'),\n",
       " (-10.66134511446483, '.ן'),\n",
       " (-10.66134511446483, '.נ'),\n",
       " (-10.66134511446483, '.ס'),\n",
       " (-10.66134511446483, '.ע'),\n",
       " (-10.66134511446483, '.ף'),\n",
       " (-10.66134511446483, '.פ'),\n",
       " (-10.66134511446483, '.ץ'),\n",
       " (-10.66134511446483, '.צ'),\n",
       " (-10.66134511446483, '.ק'),\n",
       " (-10.66134511446483, '.ר'),\n",
       " (-10.66134511446483, '.ש'),\n",
       " (-10.66134511446483, '.ת'),\n",
       " (-10.66134511446483, '00'),\n",
       " (-10.66134511446483, '01'),\n",
       " (-10.66134511446483, '02'),\n",
       " (-10.66134511446483, '03'),\n",
       " (-10.66134511446483, '04'),\n",
       " (-10.66134511446483, '05'),\n",
       " (-10.66134511446483, '06'),\n",
       " (-10.66134511446483, '07'),\n",
       " (-10.66134511446483, '08'),\n",
       " (-10.66134511446483, '09'),\n",
       " (-10.66134511446483, '0:'),\n",
       " (-10.66134511446483, '0;'),\n",
       " (-10.66134511446483, '0?'),\n",
       " (-10.66134511446483, '0_'),\n",
       " (-10.66134511446483, '0א'),\n",
       " (-10.66134511446483, '0ב'),\n",
       " (-10.66134511446483, '0ג'),\n",
       " (-10.66134511446483, '0ד'),\n",
       " (-10.66134511446483, '0ה'),\n",
       " (-10.66134511446483, '0ו'),\n",
       " (-10.66134511446483, '0ז'),\n",
       " (-10.66134511446483, '0ח'),\n",
       " (-10.66134511446483, '0ט'),\n",
       " (-10.66134511446483, '0י'),\n",
       " (-10.66134511446483, '0ך'),\n",
       " (-10.66134511446483, '0כ'),\n",
       " (-10.66134511446483, '0ל'),\n",
       " (-10.66134511446483, '0ם'),\n",
       " (-10.66134511446483, '0מ'),\n",
       " (-10.66134511446483, '0ן'),\n",
       " (-10.66134511446483, '0נ'),\n",
       " (-10.66134511446483, '0ס'),\n",
       " (-10.66134511446483, '0ע'),\n",
       " (-10.66134511446483, '0ף'),\n",
       " (-10.66134511446483, '0פ'),\n",
       " (-10.66134511446483, '0ץ'),\n",
       " (-10.66134511446483, '0צ'),\n",
       " (-10.66134511446483, '0ק'),\n",
       " (-10.66134511446483, '0ר'),\n",
       " (-10.66134511446483, '0ש'),\n",
       " (-10.66134511446483, '0ת'),\n",
       " (-10.66134511446483, '11'),\n",
       " (-10.66134511446483, '12'),\n",
       " (-10.66134511446483, '13'),\n",
       " (-10.66134511446483, '14'),\n",
       " (-10.66134511446483, '15'),\n",
       " (-10.66134511446483, '16'),\n",
       " (-10.66134511446483, '17'),\n",
       " (-10.66134511446483, '18'),\n",
       " (-10.66134511446483, '19'),\n",
       " (-10.66134511446483, '1:'),\n",
       " (-10.66134511446483, '1;'),\n",
       " (-10.66134511446483, '1?'),\n",
       " (-10.66134511446483, '1_'),\n",
       " (-10.66134511446483, '1א'),\n",
       " (-10.66134511446483, '1ב'),\n",
       " (-10.66134511446483, '1ג'),\n",
       " (-10.66134511446483, '1ד'),\n",
       " (-10.66134511446483, '1ה'),\n",
       " (-10.66134511446483, '1ו'),\n",
       " (-10.66134511446483, '1ז'),\n",
       " (-10.66134511446483, '1ח'),\n",
       " (-10.66134511446483, '1ט'),\n",
       " (-10.66134511446483, '1י'),\n",
       " (-10.66134511446483, '1ך'),\n",
       " (-10.66134511446483, '1כ'),\n",
       " (-10.66134511446483, '1ל'),\n",
       " (-10.66134511446483, '1ם'),\n",
       " (-10.66134511446483, '1מ'),\n",
       " (-10.66134511446483, '1ן'),\n",
       " (-10.66134511446483, '1נ'),\n",
       " (-10.66134511446483, '1ס'),\n",
       " (-10.66134511446483, '1ע'),\n",
       " (-10.66134511446483, '1ף'),\n",
       " (-10.66134511446483, '1פ'),\n",
       " (-10.66134511446483, '1ץ'),\n",
       " (-10.66134511446483, '1צ'),\n",
       " (-10.66134511446483, '1ק'),\n",
       " (-10.66134511446483, '1ר'),\n",
       " (-10.66134511446483, '1ש'),\n",
       " (-10.66134511446483, '1ת'),\n",
       " (-10.66134511446483, '22'),\n",
       " (-10.66134511446483, '23'),\n",
       " (-10.66134511446483, '24'),\n",
       " (-10.66134511446483, '25'),\n",
       " (-10.66134511446483, '26'),\n",
       " (-10.66134511446483, '27'),\n",
       " (-10.66134511446483, '28'),\n",
       " (-10.66134511446483, '29'),\n",
       " (-10.66134511446483, '2:'),\n",
       " (-10.66134511446483, '2;'),\n",
       " (-10.66134511446483, '2?'),\n",
       " (-10.66134511446483, '2_'),\n",
       " (-10.66134511446483, '2א'),\n",
       " (-10.66134511446483, '2ב'),\n",
       " (-10.66134511446483, '2ג'),\n",
       " (-10.66134511446483, '2ד'),\n",
       " (-10.66134511446483, '2ה'),\n",
       " (-10.66134511446483, '2ו'),\n",
       " (-10.66134511446483, '2ז'),\n",
       " (-10.66134511446483, '2ח'),\n",
       " (-10.66134511446483, '2ט'),\n",
       " (-10.66134511446483, '2י'),\n",
       " (-10.66134511446483, '2ך'),\n",
       " (-10.66134511446483, '2כ'),\n",
       " (-10.66134511446483, '2ל'),\n",
       " (-10.66134511446483, '2ם'),\n",
       " (-10.66134511446483, '2מ'),\n",
       " (-10.66134511446483, '2ן'),\n",
       " (-10.66134511446483, '2נ'),\n",
       " (-10.66134511446483, '2ס'),\n",
       " (-10.66134511446483, '2ע'),\n",
       " (-10.66134511446483, '2ף'),\n",
       " (-10.66134511446483, '2פ'),\n",
       " (-10.66134511446483, '2ץ'),\n",
       " (-10.66134511446483, '2צ'),\n",
       " (-10.66134511446483, '2ק'),\n",
       " (-10.66134511446483, '2ר'),\n",
       " (-10.66134511446483, '2ש'),\n",
       " (-10.66134511446483, '2ת'),\n",
       " (-10.66134511446483, '33'),\n",
       " (-10.66134511446483, '34'),\n",
       " (-10.66134511446483, '35'),\n",
       " (-10.66134511446483, '36'),\n",
       " (-10.66134511446483, '37'),\n",
       " (-10.66134511446483, '38'),\n",
       " (-10.66134511446483, '39'),\n",
       " (-10.66134511446483, '3:'),\n",
       " (-10.66134511446483, '3;'),\n",
       " (-10.66134511446483, '3?'),\n",
       " (-10.66134511446483, '3_'),\n",
       " (-10.66134511446483, '3א'),\n",
       " (-10.66134511446483, '3ב'),\n",
       " (-10.66134511446483, '3ג'),\n",
       " (-10.66134511446483, '3ד'),\n",
       " (-10.66134511446483, '3ה'),\n",
       " (-10.66134511446483, '3ו'),\n",
       " (-10.66134511446483, '3ז'),\n",
       " (-10.66134511446483, '3ח'),\n",
       " (-10.66134511446483, '3ט'),\n",
       " (-10.66134511446483, '3י'),\n",
       " (-10.66134511446483, '3ך'),\n",
       " (-10.66134511446483, '3כ'),\n",
       " (-10.66134511446483, '3ל'),\n",
       " (-10.66134511446483, '3ם'),\n",
       " (-10.66134511446483, '3מ'),\n",
       " (-10.66134511446483, '3ן'),\n",
       " (-10.66134511446483, '3נ'),\n",
       " (-10.66134511446483, '3ס'),\n",
       " (-10.66134511446483, '3ע'),\n",
       " (-10.66134511446483, '3ף'),\n",
       " (-10.66134511446483, '3פ'),\n",
       " (-10.66134511446483, '3ץ'),\n",
       " (-10.66134511446483, '3צ'),\n",
       " (-10.66134511446483, '3ק'),\n",
       " (-10.66134511446483, '3ר'),\n",
       " (-10.66134511446483, '3ש'),\n",
       " (-10.66134511446483, '3ת'),\n",
       " (-10.66134511446483, '44'),\n",
       " (-10.66134511446483, '45'),\n",
       " (-10.66134511446483, '46'),\n",
       " (-10.66134511446483, '47'),\n",
       " (-10.66134511446483, '48'),\n",
       " (-10.66134511446483, '49'),\n",
       " (-10.66134511446483, '4:'),\n",
       " (-10.66134511446483, '4;'),\n",
       " (-10.66134511446483, '4?'),\n",
       " (-10.66134511446483, '4_'),\n",
       " (-10.66134511446483, '4א'),\n",
       " (-10.66134511446483, '4ב'),\n",
       " (-10.66134511446483, '4ג'),\n",
       " (-10.66134511446483, '4ד'),\n",
       " (-10.66134511446483, '4ה'),\n",
       " (-10.66134511446483, '4ו'),\n",
       " (-10.66134511446483, '4ז'),\n",
       " (-10.66134511446483, '4ח'),\n",
       " (-10.66134511446483, '4ט'),\n",
       " (-10.66134511446483, '4י'),\n",
       " (-10.66134511446483, '4ך'),\n",
       " (-10.66134511446483, '4כ'),\n",
       " (-10.66134511446483, '4ל'),\n",
       " (-10.66134511446483, '4ם'),\n",
       " (-10.66134511446483, '4מ'),\n",
       " (-10.66134511446483, '4ן'),\n",
       " (-10.66134511446483, '4נ'),\n",
       " (-10.66134511446483, '4ס'),\n",
       " (-10.66134511446483, '4ע'),\n",
       " (-10.66134511446483, '4ף'),\n",
       " (-10.66134511446483, '4פ'),\n",
       " (-10.66134511446483, '4ץ'),\n",
       " (-10.66134511446483, '4צ'),\n",
       " (-10.66134511446483, '4ק'),\n",
       " (-10.66134511446483, '4ר'),\n",
       " (-10.66134511446483, '4ש'),\n",
       " (-10.66134511446483, '4ת'),\n",
       " (-10.66134511446483, '55'),\n",
       " (-10.66134511446483, '56'),\n",
       " (-10.66134511446483, '57'),\n",
       " (-10.66134511446483, '58'),\n",
       " (-10.66134511446483, '59'),\n",
       " (-10.66134511446483, '5:'),\n",
       " (-10.66134511446483, '5;'),\n",
       " (-10.66134511446483, '5?'),\n",
       " (-10.66134511446483, '5_'),\n",
       " (-10.66134511446483, '5א'),\n",
       " (-10.66134511446483, '5ב'),\n",
       " (-10.66134511446483, '5ג'),\n",
       " (-10.66134511446483, '5ד'),\n",
       " (-10.66134511446483, '5ה'),\n",
       " (-10.66134511446483, '5ו'),\n",
       " (-10.66134511446483, '5ז'),\n",
       " (-10.66134511446483, '5ח'),\n",
       " (-10.66134511446483, '5ט'),\n",
       " (-10.66134511446483, '5י'),\n",
       " (-10.66134511446483, '5ך'),\n",
       " (-10.66134511446483, '5כ'),\n",
       " (-10.66134511446483, '5ל'),\n",
       " (-10.66134511446483, '5ם'),\n",
       " (-10.66134511446483, '5מ'),\n",
       " (-10.66134511446483, '5ן'),\n",
       " (-10.66134511446483, '5נ'),\n",
       " (-10.66134511446483, '5ס'),\n",
       " (-10.66134511446483, '5ע'),\n",
       " (-10.66134511446483, '5ף'),\n",
       " (-10.66134511446483, '5פ'),\n",
       " (-10.66134511446483, '5ץ'),\n",
       " (-10.66134511446483, '5צ'),\n",
       " (-10.66134511446483, '5ק'),\n",
       " (-10.66134511446483, '5ר'),\n",
       " (-10.66134511446483, '5ש'),\n",
       " (-10.66134511446483, '5ת'),\n",
       " (-10.66134511446483, '66'),\n",
       " (-10.66134511446483, '67'),\n",
       " (-10.66134511446483, '68'),\n",
       " (-10.66134511446483, '69'),\n",
       " (-10.66134511446483, '6:'),\n",
       " (-10.66134511446483, '6;'),\n",
       " (-10.66134511446483, '6?'),\n",
       " (-10.66134511446483, '6_'),\n",
       " (-10.66134511446483, '6א'),\n",
       " (-10.66134511446483, '6ב'),\n",
       " (-10.66134511446483, '6ג'),\n",
       " (-10.66134511446483, '6ד'),\n",
       " (-10.66134511446483, '6ה'),\n",
       " (-10.66134511446483, '6ו'),\n",
       " (-10.66134511446483, '6ז'),\n",
       " (-10.66134511446483, '6ח'),\n",
       " (-10.66134511446483, '6ט'),\n",
       " (-10.66134511446483, '6י'),\n",
       " (-10.66134511446483, '6ך'),\n",
       " (-10.66134511446483, '6כ'),\n",
       " (-10.66134511446483, '6ל'),\n",
       " (-10.66134511446483, '6ם'),\n",
       " (-10.66134511446483, '6מ'),\n",
       " (-10.66134511446483, '6ן'),\n",
       " (-10.66134511446483, '6נ'),\n",
       " (-10.66134511446483, '6ס'),\n",
       " (-10.66134511446483, '6ע'),\n",
       " (-10.66134511446483, '6ף'),\n",
       " (-10.66134511446483, '6פ'),\n",
       " (-10.66134511446483, '6ץ'),\n",
       " (-10.66134511446483, '6צ'),\n",
       " (-10.66134511446483, '6ק'),\n",
       " (-10.66134511446483, '6ר'),\n",
       " (-10.66134511446483, '6ש'),\n",
       " (-10.66134511446483, '6ת'),\n",
       " (-10.66134511446483, '77'),\n",
       " (-10.66134511446483, '78'),\n",
       " (-10.66134511446483, '79'),\n",
       " (-10.66134511446483, '7:'),\n",
       " (-10.66134511446483, '7;'),\n",
       " (-10.66134511446483, '7?'),\n",
       " (-10.66134511446483, '7_'),\n",
       " (-10.66134511446483, '7א'),\n",
       " (-10.66134511446483, '7ב'),\n",
       " (-10.66134511446483, '7ג'),\n",
       " (-10.66134511446483, '7ד'),\n",
       " (-10.66134511446483, '7ה'),\n",
       " (-10.66134511446483, '7ו'),\n",
       " (-10.66134511446483, '7ז'),\n",
       " (-10.66134511446483, '7ח'),\n",
       " (-10.66134511446483, '7ט'),\n",
       " (-10.66134511446483, '7י'),\n",
       " (-10.66134511446483, '7ך'),\n",
       " (-10.66134511446483, '7כ'),\n",
       " (-10.66134511446483, '7ל'),\n",
       " (-10.66134511446483, '7ם'),\n",
       " (-10.66134511446483, '7מ'),\n",
       " (-10.66134511446483, '7ן'),\n",
       " (-10.66134511446483, '7נ'),\n",
       " (-10.66134511446483, '7ס'),\n",
       " (-10.66134511446483, '7ע'),\n",
       " (-10.66134511446483, '7ף'),\n",
       " (-10.66134511446483, '7פ'),\n",
       " (-10.66134511446483, '7ץ'),\n",
       " (-10.66134511446483, '7צ'),\n",
       " (-10.66134511446483, '7ק'),\n",
       " (-10.66134511446483, '7ר'),\n",
       " (-10.66134511446483, '7ש'),\n",
       " (-10.66134511446483, '7ת'),\n",
       " (-10.66134511446483, '88'),\n",
       " (-10.66134511446483, '89'),\n",
       " (-10.66134511446483, '8:'),\n",
       " (-10.66134511446483, '8;'),\n",
       " (-10.66134511446483, '8?'),\n",
       " (-10.66134511446483, '8_'),\n",
       " (-10.66134511446483, '8א'),\n",
       " (-10.66134511446483, '8ב'),\n",
       " (-10.66134511446483, '8ג'),\n",
       " (-10.66134511446483, '8ד'),\n",
       " (-10.66134511446483, '8ה'),\n",
       " (-10.66134511446483, '8ו'),\n",
       " (-10.66134511446483, '8ז'),\n",
       " (-10.66134511446483, '8ח'),\n",
       " (-10.66134511446483, '8ט'),\n",
       " (-10.66134511446483, '8י'),\n",
       " (-10.66134511446483, '8ך'),\n",
       " (-10.66134511446483, '8כ'),\n",
       " (-10.66134511446483, '8ל'),\n",
       " (-10.66134511446483, '8ם'),\n",
       " (-10.66134511446483, '8מ'),\n",
       " (-10.66134511446483, '8ן'),\n",
       " (-10.66134511446483, '8נ'),\n",
       " (-10.66134511446483, '8ס'),\n",
       " ...]"
      ]
     },
     "execution_count": 17,
     "metadata": {},
     "output_type": "execute_result"
    }
   ],
   "source": [
    "sorted(model_coefficients, reverse=True, key=lambda tuple: tuple[0])"
   ]
  },
  {
   "cell_type": "code",
   "execution_count": 18,
   "metadata": {
    "ExecuteTime": {
     "end_time": "2019-02-20T13:50:22.556251Z",
     "start_time": "2019-02-20T13:50:22.498363Z"
    }
   },
   "outputs": [
    {
     "data": {
      "text/plain": [
       "array([0])"
      ]
     },
     "execution_count": 18,
     "metadata": {},
     "output_type": "execute_result"
    }
   ],
   "source": [
    "word = 'התלבשו'\n",
    "word = 'הלבשה'\n",
    "clf.predict([vectorize(word)])"
   ]
  },
  {
   "cell_type": "code",
   "execution_count": 19,
   "metadata": {
    "ExecuteTime": {
     "end_time": "2019-02-20T13:50:23.940317Z",
     "start_time": "2019-02-20T13:50:22.558191Z"
    }
   },
   "outputs": [],
   "source": [
    "X_test = X_test_pos + X_test_neg\n",
    "y_test = y_test_pos + y_test_neg\n",
    "\n",
    "y_pred = clf.predict(X_test)"
   ]
  },
  {
   "cell_type": "code",
   "execution_count": 20,
   "metadata": {
    "ExecuteTime": {
     "end_time": "2019-02-20T13:50:23.948868Z",
     "start_time": "2019-02-20T13:50:23.942246Z"
    }
   },
   "outputs": [
    {
     "data": {
      "text/plain": [
       "0.8651270207852194"
      ]
     },
     "execution_count": 20,
     "metadata": {},
     "output_type": "execute_result"
    }
   ],
   "source": [
    "sklearn.metrics.accuracy_score(y_test, y_pred)"
   ]
  },
  {
   "cell_type": "code",
   "execution_count": 28,
   "metadata": {
    "ExecuteTime": {
     "end_time": "2019-02-20T13:58:16.572064Z",
     "start_time": "2019-02-20T13:58:16.558177Z"
    }
   },
   "outputs": [
    {
     "name": "stdout",
     "output_type": "stream",
     "text": [
      "             precision    recall  f1-score   support\n",
      "\n",
      "          0       0.91      0.93      0.92      5515\n",
      "          1       0.56      0.48      0.52       980\n",
      "\n",
      "avg / total       0.86      0.87      0.86      6495\n",
      "\n"
     ]
    }
   ],
   "source": [
    "print(sklearn.metrics.classification_report(y_test, y_pred))"
   ]
  },
  {
   "cell_type": "code",
   "execution_count": 22,
   "metadata": {
    "ExecuteTime": {
     "end_time": "2019-02-20T13:50:24.081413Z",
     "start_time": "2019-02-20T13:50:24.020769Z"
    }
   },
   "outputs": [
    {
     "data": {
      "text/plain": [
       "array([[5145,  370],\n",
       "       [ 506,  474]])"
      ]
     },
     "execution_count": 22,
     "metadata": {},
     "output_type": "execute_result"
    }
   ],
   "source": [
    "confusion_matrix(y_test, y_pred)"
   ]
  },
  {
   "cell_type": "code",
   "execution_count": 39,
   "metadata": {
    "ExecuteTime": {
     "end_time": "2019-02-20T14:04:58.479978Z",
     "start_time": "2019-02-20T14:04:58.465338Z"
    }
   },
   "outputs": [
    {
     "data": {
      "text/plain": [
       "0.8651270207852194"
      ]
     },
     "execution_count": 39,
     "metadata": {},
     "output_type": "execute_result"
    }
   ],
   "source": [
    "sklearn.metrics.precision_score(y_test, y_pred, average='micro')"
   ]
  },
  {
   "cell_type": "markdown",
   "metadata": {
    "ExecuteTime": {
     "end_time": "2019-02-16T01:37:27.972181Z",
     "start_time": "2019-02-16T01:37:27.965686Z"
    }
   },
   "source": [
    "## _3 pts_ | Question 1 \n",
    "to understand how badly a model is performing, it is good to come up with a naive baseline, unless there is a benchmark result to compare to. assume you have no benchmark to compare to, and you hence wish to have a baseline.***suggest and calculate a reasonable even if naive, baseline over the test set***. hint: think of the class distribution in the data.*"
   ]
  },
  {
   "cell_type": "markdown",
   "metadata": {},
   "source": [
    "## _2 pts_ | Question 2 \n",
    "what can you say about the performance obtained here, according to your baseline?"
   ]
  },
  {
   "cell_type": "markdown",
   "metadata": {},
   "source": [
    "## _3 pts_ | Question 3\n",
    "in light of the above, suggest and implement an adjusted accuracy metric, that would better account for the class imbalance inherent in our data. class imbalance is defined as a case where the distribution of classes in the data is far from being uniform.\n",
    "\n"
   ]
  },
  {
   "cell_type": "markdown",
   "metadata": {},
   "source": [
    "## _8 pts_ | Question 4\n",
    "suggest better features based on properties of the Hebrew language. which language feature comes into aid in that? (*hint: think of features abscent e.g. in English*). implement the features and provide a notebook with your implementation and the resulting performance report showing its contribution. "
   ]
  },
  {
   "cell_type": "markdown",
   "metadata": {},
   "source": [
    "## _4 pts_ | Question 5\n",
    "now alternatively suggest and apply features specifically for English. Provide a notebook with your implementation classifying over the English data of https://github.com/UniversalDependencies/UD_English-EWT, including a performance report.\n",
    "\n",
    "*use the following code cell to download and use the chosen version of this data*"
   ]
  },
  {
   "cell_type": "code",
   "execution_count": 23,
   "metadata": {
    "ExecuteTime": {
     "end_time": "2019-02-20T13:50:24.192908Z",
     "start_time": "2019-02-20T13:50:24.083716Z"
    }
   },
   "outputs": [],
   "source": [
    "%%script false\n",
    "!git clone https://github.com/UniversalDependencies/UD_English-EWT\n",
    "!cd UD_English-EWT && git checkout 7be629932192bf1ceb35081fb29b8ecb0bd6d767"
   ]
  },
  {
   "cell_type": "markdown",
   "metadata": {},
   "source": [
    "## _30 pts_ | Question 6 \n",
    "_In this question you will implement a classifier that takes account of the context of a word_. This means, you will no longer classify a word, context-less, but rather, you will transition to classifying words as part of the sentence they appear in. It will open the way for bringing additional features into play in your model, and very hopefully, lead to substantially improved classification performance.\n",
    "\n",
    "+ You may reuse the code of this notebook in any way, or write from scratch.\n",
    "\n",
    "+ You will be graded based upon:\n",
    "\n",
    "   + dilligence and creativity in adding reasonable features\n",
    "   + score on the test set, obtained when run for grading\n",
    "   + reproducibility: does your submitted solution notebook actually run when downloaded for grading\n",
    "   + cleanly structured, mildly self-explanatory or documented code\n",
    "   "
   ]
  },
  {
   "cell_type": "markdown",
   "metadata": {},
   "source": [
    "## _20 pts_ | Question 7\n",
    "Implement the _Multinomial Naive Bayes_ algorithm itself from scratch. Establish the same performances as obtained with the ready-made Multinomial Naive Bayes algorithm that you have used so far.\n",
    "\n",
    "What to submit for this?\n",
    "+ a working notebook using your own implemented Naive Bayes classifier rather than the sklearn one, per each of the programming assignments you have already implemented above\n"
   ]
  },
  {
   "cell_type": "markdown",
   "metadata": {
    "ExecuteTime": {
     "end_time": "2019-02-17T06:13:49.246793Z",
     "start_time": "2019-02-17T06:13:49.240278Z"
    }
   },
   "source": [
    "## _20 pts_ | Question 8\n",
    "Implement the _logistic regression_ algorithm itself from scratch. Establish the same performances as obtained with the ready-made logistic regression algorithm that you have used so far.\n",
    "\n",
    "What to submit for this?\n",
    "+ a working notebook using your own implemented logistic regression algorithm rather than the sklearn one, per each of the programming assignments you have already implemented above\n"
   ]
  },
  {
   "cell_type": "markdown",
   "metadata": {},
   "source": [
    "## _10 pts_ | Question 9\n",
    "*Manual domain adaptation.* \n",
    "<br>\n",
    "1. obtain an unrelated Hebrew dataset; \n",
    "\n",
    "    + this can be a liberated copy of your gmail inbox ([google data takeout](https://takeout.google.com/settings/takeout))\n",
    "    + a whatsapp data export\n",
    "    + public hebrew tweets\n",
    "    + a hebrew wikipedia dump\n",
    "\n",
    "\n",
    "2. Use your best accomplished model over some subset of that data.\n",
    "\n",
    "<br><br>\n",
    "What to submit for this?\n",
    "1. Provide a simple report of its success rate over that data (comparing to the original results)\n",
    "2. Try to analyze towards a qualitative description of the difference in the performance; Submit your analysis.\n",
    "+ _15 pts bonus:_ modify the training data to improve performance over your data. submit your modified training data here as well.\n",
    "\n",
    "<span style=\"color:gray\">what not to include in your submission?</span>\n",
    "+ <span style=\"color:gray\">You may not include in your new data, any data explicitly or implicitly disclosing the identity or personal information of any person/s. Anonymize any non-public data that you use as necessary to comply with this requirement.</span>\n",
    "+ <span style=\"color:gray\">You may not include any proprietary or confidential data in your new data.</span>"
   ]
  },
  {
   "cell_type": "markdown",
   "metadata": {},
   "source": [
    "## <span style=\"color:orange\">Submission Notes</span>\n",
    "\n",
    "+ <span style=\"color:red\">Note that non-reproducible results will be ignored.</span>\n",
    "+ <span style=\"color:red\">Any submission that does not actually run (halts with an error) will immediately deduce 5 pts. Any re-submission that does not actually run (halts with an error) will deduce additional 5 pts each. So make sure to verify that your code submission runs before submitting it.</span>\n",
    "+ <span style=\"color:gray\">if any of your code should take more than 10 minutes to run, require more than 16GB of memory, or happen to rely on a GPU, please provide a notifcation in advance.\n",
    "\n",
    "The way to avoid this troubles, is to bundle your solution into a compressed zip archive, unzip it to an empty folder, and verify it is running from scratch from there.\n",
    "\n"
   ]
  }
 ],
 "metadata": {
  "hide_code_all_hidden": false,
  "kernelspec": {
   "display_name": "Python 3",
   "language": "python",
   "name": "python3"
  },
  "language_info": {
   "codemirror_mode": {
    "name": "ipython",
    "version": 3
   },
   "file_extension": ".py",
   "mimetype": "text/x-python",
   "name": "python",
   "nbconvert_exporter": "python",
   "pygments_lexer": "ipython3",
   "version": "3.6.5"
  }
 },
 "nbformat": 4,
 "nbformat_minor": 2
}
